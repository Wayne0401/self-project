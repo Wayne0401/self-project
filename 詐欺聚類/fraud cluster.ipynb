{
 "cells": [
  {
   "cell_type": "markdown",
   "id": "8fe8b53b-54ff-4c0e-b945-d532afa2a89e",
   "metadata": {},
   "source": [
    "# fraud detection and analyze"
   ]
  },
  {
   "cell_type": "markdown",
   "id": "053e02cb-8c4f-4354-9d95-b73e18c354a4",
   "metadata": {},
   "source": [
    "This is a fraud dataset from kagggle\n",
    "https://www.kaggle.com/datasets/marusagar/bank-transaction-fraud-detection?resource=download"
   ]
  },
  {
   "cell_type": "markdown",
   "id": "9266a1e7-b738-42fa-8afc-37032fde286c",
   "metadata": {},
   "source": [
    "## feature"
   ]
  },
  {
   "cell_type": "markdown",
   "id": "602d74d2-3632-42e3-934b-05cbee107772",
   "metadata": {},
   "source": [
    "Customer_ID: A particular identifier for every customer within the bank's system.\n",
    "\n",
    "Customer_Name: The name of the consumer making the transaction.\n",
    "\n",
    "Gender: The gender of the consumer (e.G., Male, Female, Other).\n",
    "\n",
    "Age: The age of the consumer at the time of the transaction.\n",
    "\n",
    "State: The nation in which the patron resides.\n",
    "\n",
    "City: The metropolis wherein the client is living.\n",
    "\n",
    "Bank_Branch: The specific financial institution branch wherein the consumer holds their account.\n",
    "\n",
    "Account_Type: The kind of account held with the aid of the customer (e.G., Savings, Checking).\n",
    "\n",
    "Transaction_ID: A particular identifier for each transaction.\n",
    "\n",
    "Transaction_Date: The date on which the transaction passed off.\n",
    "\n",
    "\n",
    "Transaction_Time: The specific time the transaction became initiated.\n",
    "\n",
    "Transaction_Amount: The financial value of the transaction.\n",
    "\n",
    "Merchant_ID: A particular identifier for the merchant worried within the transaction.\n",
    "\n",
    "Transaction_Type: The nature of the transaction (e.G., Withdrawal, Deposit, Transfer).\n",
    "\n",
    "Merchant_Category: The class of the merchant (e.G., Retail, Online, Travel).\n",
    "\n",
    "Account_Balance: The balance of the customer's account after the transaction.\n",
    "\n",
    "Transaction_Device: The tool utilized by the consumer to perform the transaction (e.G., Mobile, Desktop).\n",
    "\n",
    "Transaction_Location: The geographical vicinity (e.G., latitude, longitude) of the transaction.\n",
    "\n",
    "Device_Type: The kind of device used for the transaction (e.G., Smartphone, Laptop).\n",
    "\n",
    "Is_Fraud: A binary indicator (1 or zero) indicating whether or not the transaction is fraudulent or now not.\n",
    "\n",
    "Transaction_Currency: The currency used for the transaction (e.G., USD, EUR).\n",
    "\n",
    "Customer_Contact: The contact variety of the client.\n",
    "\n",
    "Transaction_Description: A brief description of the transaction (e.G., buy, switch).\n",
    "\n",
    "Customer_Email: The e-mail cope with related to the consumer's account.\n"
   ]
  },
  {
   "cell_type": "markdown",
   "id": "51a6a7ae-0e2c-4775-8861-1ca3b2d6acd1",
   "metadata": {},
   "source": [
    "## Goal: "
   ]
  },
  {
   "cell_type": "markdown",
   "id": "8bfaba28-5871-4a35-a958-6030ee163771",
   "metadata": {},
   "source": [
    "### use clustering to identify the property of the people who commit fraud "
   ]
  },
  {
   "cell_type": "markdown",
   "id": "41495afb-fe90-485f-947f-44fe8c04a2be",
   "metadata": {},
   "source": [
    "### if we know this we could better find out potential fraud behavior and stop it in advance"
   ]
  },
  {
   "cell_type": "markdown",
   "id": "e56fbf75-d801-468b-9cfb-14b1131144df",
   "metadata": {},
   "source": [
    "## setup:"
   ]
  },
  {
   "cell_type": "code",
   "execution_count": 1,
   "id": "3184292a-3a7c-49cd-9e8e-ed48f35f8986",
   "metadata": {
    "tags": []
   },
   "outputs": [
    {
     "name": "stderr",
     "output_type": "stream",
     "text": [
      "/home/jupyterlab/conda/envs/python/lib/python3.7/site-packages/sklearn/utils/validation.py:37: DeprecationWarning: distutils Version classes are deprecated. Use packaging.version instead.\n",
      "  LARGE_SPARSE_SUPPORTED = LooseVersion(scipy_version) >= '0.14.0'\n",
      "/home/jupyterlab/conda/envs/python/lib/python3.7/site-packages/sklearn/linear_model/least_angle.py:35: DeprecationWarning: `np.float` is a deprecated alias for the builtin `float`. To silence this warning, use `float` by itself. Doing this will not modify any behavior and is safe. If you specifically wanted the numpy scalar type, use `np.float64` here.\n",
      "Deprecated in NumPy 1.20; for more details and guidance: https://numpy.org/devdocs/release/1.20.0-notes.html#deprecations\n",
      "  eps=np.finfo(np.float).eps,\n",
      "/home/jupyterlab/conda/envs/python/lib/python3.7/site-packages/sklearn/linear_model/least_angle.py:597: DeprecationWarning: `np.float` is a deprecated alias for the builtin `float`. To silence this warning, use `float` by itself. Doing this will not modify any behavior and is safe. If you specifically wanted the numpy scalar type, use `np.float64` here.\n",
      "Deprecated in NumPy 1.20; for more details and guidance: https://numpy.org/devdocs/release/1.20.0-notes.html#deprecations\n",
      "  eps=np.finfo(np.float).eps, copy_X=True, fit_path=True,\n",
      "/home/jupyterlab/conda/envs/python/lib/python3.7/site-packages/sklearn/linear_model/least_angle.py:836: DeprecationWarning: `np.float` is a deprecated alias for the builtin `float`. To silence this warning, use `float` by itself. Doing this will not modify any behavior and is safe. If you specifically wanted the numpy scalar type, use `np.float64` here.\n",
      "Deprecated in NumPy 1.20; for more details and guidance: https://numpy.org/devdocs/release/1.20.0-notes.html#deprecations\n",
      "  eps=np.finfo(np.float).eps, copy_X=True, fit_path=True,\n",
      "/home/jupyterlab/conda/envs/python/lib/python3.7/site-packages/sklearn/linear_model/least_angle.py:862: DeprecationWarning: `np.float` is a deprecated alias for the builtin `float`. To silence this warning, use `float` by itself. Doing this will not modify any behavior and is safe. If you specifically wanted the numpy scalar type, use `np.float64` here.\n",
      "Deprecated in NumPy 1.20; for more details and guidance: https://numpy.org/devdocs/release/1.20.0-notes.html#deprecations\n",
      "  eps=np.finfo(np.float).eps, positive=False):\n",
      "/home/jupyterlab/conda/envs/python/lib/python3.7/site-packages/sklearn/linear_model/least_angle.py:1097: DeprecationWarning: `np.float` is a deprecated alias for the builtin `float`. To silence this warning, use `float` by itself. Doing this will not modify any behavior and is safe. If you specifically wanted the numpy scalar type, use `np.float64` here.\n",
      "Deprecated in NumPy 1.20; for more details and guidance: https://numpy.org/devdocs/release/1.20.0-notes.html#deprecations\n",
      "  max_n_alphas=1000, n_jobs=None, eps=np.finfo(np.float).eps,\n",
      "/home/jupyterlab/conda/envs/python/lib/python3.7/site-packages/sklearn/linear_model/least_angle.py:1344: DeprecationWarning: `np.float` is a deprecated alias for the builtin `float`. To silence this warning, use `float` by itself. Doing this will not modify any behavior and is safe. If you specifically wanted the numpy scalar type, use `np.float64` here.\n",
      "Deprecated in NumPy 1.20; for more details and guidance: https://numpy.org/devdocs/release/1.20.0-notes.html#deprecations\n",
      "  max_n_alphas=1000, n_jobs=None, eps=np.finfo(np.float).eps,\n",
      "/home/jupyterlab/conda/envs/python/lib/python3.7/site-packages/sklearn/linear_model/least_angle.py:1480: DeprecationWarning: `np.float` is a deprecated alias for the builtin `float`. To silence this warning, use `float` by itself. Doing this will not modify any behavior and is safe. If you specifically wanted the numpy scalar type, use `np.float64` here.\n",
      "Deprecated in NumPy 1.20; for more details and guidance: https://numpy.org/devdocs/release/1.20.0-notes.html#deprecations\n",
      "  eps=np.finfo(np.float).eps, copy_X=True, positive=False):\n",
      "/home/jupyterlab/conda/envs/python/lib/python3.7/site-packages/sklearn/linear_model/randomized_l1.py:152: DeprecationWarning: `np.float` is a deprecated alias for the builtin `float`. To silence this warning, use `float` by itself. Doing this will not modify any behavior and is safe. If you specifically wanted the numpy scalar type, use `np.float64` here.\n",
      "Deprecated in NumPy 1.20; for more details and guidance: https://numpy.org/devdocs/release/1.20.0-notes.html#deprecations\n",
      "  precompute=False, eps=np.finfo(np.float).eps,\n",
      "/home/jupyterlab/conda/envs/python/lib/python3.7/site-packages/sklearn/linear_model/randomized_l1.py:320: DeprecationWarning: `np.float` is a deprecated alias for the builtin `float`. To silence this warning, use `float` by itself. Doing this will not modify any behavior and is safe. If you specifically wanted the numpy scalar type, use `np.float64` here.\n",
      "Deprecated in NumPy 1.20; for more details and guidance: https://numpy.org/devdocs/release/1.20.0-notes.html#deprecations\n",
      "  eps=np.finfo(np.float).eps, random_state=None,\n",
      "/home/jupyterlab/conda/envs/python/lib/python3.7/site-packages/sklearn/linear_model/randomized_l1.py:580: DeprecationWarning: `np.float` is a deprecated alias for the builtin `float`. To silence this warning, use `float` by itself. Doing this will not modify any behavior and is safe. If you specifically wanted the numpy scalar type, use `np.float64` here.\n",
      "Deprecated in NumPy 1.20; for more details and guidance: https://numpy.org/devdocs/release/1.20.0-notes.html#deprecations\n",
      "  eps=4 * np.finfo(np.float).eps, n_jobs=None,\n",
      "/home/jupyterlab/conda/envs/python/lib/python3.7/site-packages/sklearn/decomposition/online_lda.py:31: DeprecationWarning: `np.float` is a deprecated alias for the builtin `float`. To silence this warning, use `float` by itself. Doing this will not modify any behavior and is safe. If you specifically wanted the numpy scalar type, use `np.float64` here.\n",
      "Deprecated in NumPy 1.20; for more details and guidance: https://numpy.org/devdocs/release/1.20.0-notes.html#deprecations\n",
      "  EPS = np.finfo(np.float).eps\n"
     ]
    }
   ],
   "source": [
    "import pandas as pd\n",
    "from sklearn.preprocessing import StandardScaler,OneHotEncoder,LabelEncoder\n",
    "from sklearn.cluster import KMeans,DBSCAN\n",
    "import numpy as np\n",
    "import matplotlib.pyplot as plt\n",
    "from sklearn.metrics import confusion_matrix\n",
    "import seaborn as sns\n",
    "import warnings\n",
    "warnings.filterwarnings('ignore', category=DeprecationWarning)\n",
    "from sklearn.metrics import silhouette_score\n",
    "from sklearn.decomposition import PCA"
   ]
  },
  {
   "cell_type": "markdown",
   "id": "204c7f9d-db19-454b-b0a1-1ea6ca435b5a",
   "metadata": {
    "tags": []
   },
   "source": [
    "## EDA:"
   ]
  },
  {
   "cell_type": "code",
   "execution_count": 2,
   "id": "a4cc75e6-626b-44c9-b9f5-fe8e385f4213",
   "metadata": {
    "tags": []
   },
   "outputs": [
    {
     "data": {
      "text/html": [
       "<div>\n",
       "<style scoped>\n",
       "    .dataframe tbody tr th:only-of-type {\n",
       "        vertical-align: middle;\n",
       "    }\n",
       "\n",
       "    .dataframe tbody tr th {\n",
       "        vertical-align: top;\n",
       "    }\n",
       "\n",
       "    .dataframe thead th {\n",
       "        text-align: right;\n",
       "    }\n",
       "</style>\n",
       "<table border=\"1\" class=\"dataframe\">\n",
       "  <thead>\n",
       "    <tr style=\"text-align: right;\">\n",
       "      <th></th>\n",
       "      <th>Customer_ID</th>\n",
       "      <th>Customer_Name</th>\n",
       "      <th>Gender</th>\n",
       "      <th>Age</th>\n",
       "      <th>State</th>\n",
       "      <th>City</th>\n",
       "      <th>Bank_Branch</th>\n",
       "      <th>Account_Type</th>\n",
       "      <th>Transaction_ID</th>\n",
       "      <th>Transaction_Date</th>\n",
       "      <th>...</th>\n",
       "      <th>Merchant_Category</th>\n",
       "      <th>Account_Balance</th>\n",
       "      <th>Transaction_Device</th>\n",
       "      <th>Transaction_Location</th>\n",
       "      <th>Device_Type</th>\n",
       "      <th>Is_Fraud</th>\n",
       "      <th>Transaction_Currency</th>\n",
       "      <th>Customer_Contact</th>\n",
       "      <th>Transaction_Description</th>\n",
       "      <th>Customer_Email</th>\n",
       "    </tr>\n",
       "  </thead>\n",
       "  <tbody>\n",
       "    <tr>\n",
       "      <th>0</th>\n",
       "      <td>d5f6ec07-d69e-4f47-b9b4-7c58ff17c19e</td>\n",
       "      <td>Osha Tella</td>\n",
       "      <td>Male</td>\n",
       "      <td>60</td>\n",
       "      <td>Kerala</td>\n",
       "      <td>Thiruvananthapuram</td>\n",
       "      <td>Thiruvananthapuram Branch</td>\n",
       "      <td>Savings</td>\n",
       "      <td>4fa3208f-9e23-42dc-b330-844829d0c12c</td>\n",
       "      <td>23-01-2025</td>\n",
       "      <td>...</td>\n",
       "      <td>Restaurant</td>\n",
       "      <td>74557.27</td>\n",
       "      <td>Voice Assistant</td>\n",
       "      <td>Thiruvananthapuram, Kerala</td>\n",
       "      <td>POS</td>\n",
       "      <td>0</td>\n",
       "      <td>INR</td>\n",
       "      <td>+9198579XXXXXX</td>\n",
       "      <td>Bitcoin transaction</td>\n",
       "      <td>oshaXXXXX@XXXXX.com</td>\n",
       "    </tr>\n",
       "    <tr>\n",
       "      <th>1</th>\n",
       "      <td>7c14ad51-781a-4db9-b7bd-67439c175262</td>\n",
       "      <td>Hredhaan Khosla</td>\n",
       "      <td>Female</td>\n",
       "      <td>51</td>\n",
       "      <td>Maharashtra</td>\n",
       "      <td>Nashik</td>\n",
       "      <td>Nashik Branch</td>\n",
       "      <td>Business</td>\n",
       "      <td>c9de0c06-2c4c-40a9-97ed-3c7b8f97c79c</td>\n",
       "      <td>11-01-2025</td>\n",
       "      <td>...</td>\n",
       "      <td>Restaurant</td>\n",
       "      <td>74622.66</td>\n",
       "      <td>POS Mobile Device</td>\n",
       "      <td>Nashik, Maharashtra</td>\n",
       "      <td>Desktop</td>\n",
       "      <td>0</td>\n",
       "      <td>INR</td>\n",
       "      <td>+9191074XXXXXX</td>\n",
       "      <td>Grocery delivery</td>\n",
       "      <td>hredhaanXXXX@XXXXXX.com</td>\n",
       "    </tr>\n",
       "    <tr>\n",
       "      <th>2</th>\n",
       "      <td>3a73a0e5-d4da-45aa-85f3-528413900a35</td>\n",
       "      <td>Ekani Nazareth</td>\n",
       "      <td>Male</td>\n",
       "      <td>20</td>\n",
       "      <td>Bihar</td>\n",
       "      <td>Bhagalpur</td>\n",
       "      <td>Bhagalpur Branch</td>\n",
       "      <td>Savings</td>\n",
       "      <td>e41c55f9-c016-4ff3-872b-cae72467c75c</td>\n",
       "      <td>25-01-2025</td>\n",
       "      <td>...</td>\n",
       "      <td>Groceries</td>\n",
       "      <td>66817.99</td>\n",
       "      <td>ATM</td>\n",
       "      <td>Bhagalpur, Bihar</td>\n",
       "      <td>Desktop</td>\n",
       "      <td>0</td>\n",
       "      <td>INR</td>\n",
       "      <td>+9197745XXXXXX</td>\n",
       "      <td>Mutual fund investment</td>\n",
       "      <td>ekaniXXX@XXXXXX.com</td>\n",
       "    </tr>\n",
       "    <tr>\n",
       "      <th>3</th>\n",
       "      <td>7902f4ef-9050-4a79-857d-9c2ea3181940</td>\n",
       "      <td>Yamini Ramachandran</td>\n",
       "      <td>Female</td>\n",
       "      <td>57</td>\n",
       "      <td>Tamil Nadu</td>\n",
       "      <td>Chennai</td>\n",
       "      <td>Chennai Branch</td>\n",
       "      <td>Business</td>\n",
       "      <td>7f7ee11b-ff2c-45a3-802a-49bc47c02ecb</td>\n",
       "      <td>19-01-2025</td>\n",
       "      <td>...</td>\n",
       "      <td>Entertainment</td>\n",
       "      <td>58177.08</td>\n",
       "      <td>POS Mobile App</td>\n",
       "      <td>Chennai, Tamil Nadu</td>\n",
       "      <td>Mobile</td>\n",
       "      <td>0</td>\n",
       "      <td>INR</td>\n",
       "      <td>+9195889XXXXXX</td>\n",
       "      <td>Food delivery</td>\n",
       "      <td>yaminiXXXXX@XXXXXXX.com</td>\n",
       "    </tr>\n",
       "    <tr>\n",
       "      <th>4</th>\n",
       "      <td>3a4bba70-d9a9-4c5f-8b92-1735fd8c19e9</td>\n",
       "      <td>Kritika Rege</td>\n",
       "      <td>Female</td>\n",
       "      <td>43</td>\n",
       "      <td>Punjab</td>\n",
       "      <td>Amritsar</td>\n",
       "      <td>Amritsar Branch</td>\n",
       "      <td>Savings</td>\n",
       "      <td>f8e6ac6f-81a1-4985-bf12-f60967d852ef</td>\n",
       "      <td>30-01-2025</td>\n",
       "      <td>...</td>\n",
       "      <td>Entertainment</td>\n",
       "      <td>16108.56</td>\n",
       "      <td>Virtual Card</td>\n",
       "      <td>Amritsar, Punjab</td>\n",
       "      <td>Mobile</td>\n",
       "      <td>0</td>\n",
       "      <td>INR</td>\n",
       "      <td>+9195316XXXXXX</td>\n",
       "      <td>Debt repayment</td>\n",
       "      <td>kritikaXXXX@XXXXXX.com</td>\n",
       "    </tr>\n",
       "    <tr>\n",
       "      <th>...</th>\n",
       "      <td>...</td>\n",
       "      <td>...</td>\n",
       "      <td>...</td>\n",
       "      <td>...</td>\n",
       "      <td>...</td>\n",
       "      <td>...</td>\n",
       "      <td>...</td>\n",
       "      <td>...</td>\n",
       "      <td>...</td>\n",
       "      <td>...</td>\n",
       "      <td>...</td>\n",
       "      <td>...</td>\n",
       "      <td>...</td>\n",
       "      <td>...</td>\n",
       "      <td>...</td>\n",
       "      <td>...</td>\n",
       "      <td>...</td>\n",
       "      <td>...</td>\n",
       "      <td>...</td>\n",
       "      <td>...</td>\n",
       "      <td>...</td>\n",
       "    </tr>\n",
       "    <tr>\n",
       "      <th>199995</th>\n",
       "      <td>b8bdae19-296f-48b7-9104-e055d33a09ac</td>\n",
       "      <td>Vedhika Magar</td>\n",
       "      <td>Female</td>\n",
       "      <td>55</td>\n",
       "      <td>Dadra and Nagar Haveli and Daman and Diu</td>\n",
       "      <td>Diu</td>\n",
       "      <td>Diu Branch</td>\n",
       "      <td>Business</td>\n",
       "      <td>8d856bc7-4666-4509-a067-48d67500694a</td>\n",
       "      <td>08-01-2025</td>\n",
       "      <td>...</td>\n",
       "      <td>Restaurant</td>\n",
       "      <td>37475.11</td>\n",
       "      <td>Desktop/Laptop</td>\n",
       "      <td>Diu, Dadra and Nagar Haveli and Daman and Diu</td>\n",
       "      <td>ATM</td>\n",
       "      <td>0</td>\n",
       "      <td>INR</td>\n",
       "      <td>+9192629XXXXXX</td>\n",
       "      <td>ATM withdrawal</td>\n",
       "      <td>vedhikaXXXXX@XXXXXXX.com</td>\n",
       "    </tr>\n",
       "    <tr>\n",
       "      <th>199996</th>\n",
       "      <td>635bc099-8a93-48ee-829a-bf2283fe8fda</td>\n",
       "      <td>Aashi Pai</td>\n",
       "      <td>Male</td>\n",
       "      <td>51</td>\n",
       "      <td>Manipur</td>\n",
       "      <td>Kangpokpi</td>\n",
       "      <td>Kangpokpi Branch</td>\n",
       "      <td>Business</td>\n",
       "      <td>f2890dbd-4e01-445d-97f5-ac56886e9037</td>\n",
       "      <td>01-01-2025</td>\n",
       "      <td>...</td>\n",
       "      <td>Groceries</td>\n",
       "      <td>53037.20</td>\n",
       "      <td>ATM</td>\n",
       "      <td>Kangpokpi, Manipur</td>\n",
       "      <td>ATM</td>\n",
       "      <td>0</td>\n",
       "      <td>INR</td>\n",
       "      <td>+9198116XXXXXX</td>\n",
       "      <td>Subscription box</td>\n",
       "      <td>aashiXXX@XXXXXX.com</td>\n",
       "    </tr>\n",
       "    <tr>\n",
       "      <th>199997</th>\n",
       "      <td>c1b31cc2-0905-47e8-8cc5-6461d1f3ba33</td>\n",
       "      <td>Dayita Shan</td>\n",
       "      <td>Female</td>\n",
       "      <td>41</td>\n",
       "      <td>Chandigarh</td>\n",
       "      <td>Chandigarh</td>\n",
       "      <td>Chandigarh Branch</td>\n",
       "      <td>Savings</td>\n",
       "      <td>f714b758-7539-474d-b676-5fa7e2480141</td>\n",
       "      <td>28-01-2025</td>\n",
       "      <td>...</td>\n",
       "      <td>Health</td>\n",
       "      <td>96225.36</td>\n",
       "      <td>ATM</td>\n",
       "      <td>Chandigarh, Chandigarh</td>\n",
       "      <td>Desktop</td>\n",
       "      <td>0</td>\n",
       "      <td>INR</td>\n",
       "      <td>+9192601XXXXXX</td>\n",
       "      <td>Charity donation</td>\n",
       "      <td>dayitaXXXX@XXXXXXX.com</td>\n",
       "    </tr>\n",
       "    <tr>\n",
       "      <th>199998</th>\n",
       "      <td>32bb8e66-f3fa-43bf-8242-dab9a6116310</td>\n",
       "      <td>Unnati Vyas</td>\n",
       "      <td>Female</td>\n",
       "      <td>28</td>\n",
       "      <td>Telangana</td>\n",
       "      <td>Nizamabad</td>\n",
       "      <td>Nizamabad Branch</td>\n",
       "      <td>Checking</td>\n",
       "      <td>f6903b6a-b582-47ea-95d5-aff16bdec950</td>\n",
       "      <td>08-01-2025</td>\n",
       "      <td>...</td>\n",
       "      <td>Electronics</td>\n",
       "      <td>89599.90</td>\n",
       "      <td>Voice Assistant</td>\n",
       "      <td>Nizamabad, Telangana</td>\n",
       "      <td>Desktop</td>\n",
       "      <td>0</td>\n",
       "      <td>INR</td>\n",
       "      <td>+9197537XXXXXX</td>\n",
       "      <td>Tourist attraction payment</td>\n",
       "      <td>unnatiXXX@XXXXX.com</td>\n",
       "    </tr>\n",
       "    <tr>\n",
       "      <th>199999</th>\n",
       "      <td>f3dd92ef-b17a-45d2-b6cb-fdbee20843fe</td>\n",
       "      <td>Gopal Rout</td>\n",
       "      <td>Male</td>\n",
       "      <td>34</td>\n",
       "      <td>Nagaland</td>\n",
       "      <td>Kohima</td>\n",
       "      <td>Kohima Branch</td>\n",
       "      <td>Business</td>\n",
       "      <td>b44b6e8a-1036-4ec1-b492-5e7ffc7baf6d</td>\n",
       "      <td>08-01-2025</td>\n",
       "      <td>...</td>\n",
       "      <td>Electronics</td>\n",
       "      <td>15066.24</td>\n",
       "      <td>Virtual Card</td>\n",
       "      <td>Kohima, Nagaland</td>\n",
       "      <td>Mobile</td>\n",
       "      <td>0</td>\n",
       "      <td>INR</td>\n",
       "      <td>+9193961XXXXXX</td>\n",
       "      <td>Installment payment</td>\n",
       "      <td>gopalXXXXX@XXXXXXX.com</td>\n",
       "    </tr>\n",
       "  </tbody>\n",
       "</table>\n",
       "<p>200000 rows × 24 columns</p>\n",
       "</div>"
      ],
      "text/plain": [
       "                                 Customer_ID        Customer_Name  Gender  \\\n",
       "0       d5f6ec07-d69e-4f47-b9b4-7c58ff17c19e           Osha Tella    Male   \n",
       "1       7c14ad51-781a-4db9-b7bd-67439c175262      Hredhaan Khosla  Female   \n",
       "2       3a73a0e5-d4da-45aa-85f3-528413900a35       Ekani Nazareth    Male   \n",
       "3       7902f4ef-9050-4a79-857d-9c2ea3181940  Yamini Ramachandran  Female   \n",
       "4       3a4bba70-d9a9-4c5f-8b92-1735fd8c19e9         Kritika Rege  Female   \n",
       "...                                      ...                  ...     ...   \n",
       "199995  b8bdae19-296f-48b7-9104-e055d33a09ac        Vedhika Magar  Female   \n",
       "199996  635bc099-8a93-48ee-829a-bf2283fe8fda            Aashi Pai    Male   \n",
       "199997  c1b31cc2-0905-47e8-8cc5-6461d1f3ba33          Dayita Shan  Female   \n",
       "199998  32bb8e66-f3fa-43bf-8242-dab9a6116310          Unnati Vyas  Female   \n",
       "199999  f3dd92ef-b17a-45d2-b6cb-fdbee20843fe           Gopal Rout    Male   \n",
       "\n",
       "        Age                                     State                City  \\\n",
       "0        60                                    Kerala  Thiruvananthapuram   \n",
       "1        51                               Maharashtra              Nashik   \n",
       "2        20                                     Bihar           Bhagalpur   \n",
       "3        57                                Tamil Nadu             Chennai   \n",
       "4        43                                    Punjab            Amritsar   \n",
       "...     ...                                       ...                 ...   \n",
       "199995   55  Dadra and Nagar Haveli and Daman and Diu                 Diu   \n",
       "199996   51                                   Manipur           Kangpokpi   \n",
       "199997   41                                Chandigarh          Chandigarh   \n",
       "199998   28                                 Telangana           Nizamabad   \n",
       "199999   34                                  Nagaland              Kohima   \n",
       "\n",
       "                      Bank_Branch Account_Type  \\\n",
       "0       Thiruvananthapuram Branch      Savings   \n",
       "1                   Nashik Branch     Business   \n",
       "2                Bhagalpur Branch      Savings   \n",
       "3                  Chennai Branch     Business   \n",
       "4                 Amritsar Branch      Savings   \n",
       "...                           ...          ...   \n",
       "199995                 Diu Branch     Business   \n",
       "199996           Kangpokpi Branch     Business   \n",
       "199997          Chandigarh Branch      Savings   \n",
       "199998           Nizamabad Branch     Checking   \n",
       "199999              Kohima Branch     Business   \n",
       "\n",
       "                              Transaction_ID Transaction_Date  ...  \\\n",
       "0       4fa3208f-9e23-42dc-b330-844829d0c12c       23-01-2025  ...   \n",
       "1       c9de0c06-2c4c-40a9-97ed-3c7b8f97c79c       11-01-2025  ...   \n",
       "2       e41c55f9-c016-4ff3-872b-cae72467c75c       25-01-2025  ...   \n",
       "3       7f7ee11b-ff2c-45a3-802a-49bc47c02ecb       19-01-2025  ...   \n",
       "4       f8e6ac6f-81a1-4985-bf12-f60967d852ef       30-01-2025  ...   \n",
       "...                                      ...              ...  ...   \n",
       "199995  8d856bc7-4666-4509-a067-48d67500694a       08-01-2025  ...   \n",
       "199996  f2890dbd-4e01-445d-97f5-ac56886e9037       01-01-2025  ...   \n",
       "199997  f714b758-7539-474d-b676-5fa7e2480141       28-01-2025  ...   \n",
       "199998  f6903b6a-b582-47ea-95d5-aff16bdec950       08-01-2025  ...   \n",
       "199999  b44b6e8a-1036-4ec1-b492-5e7ffc7baf6d       08-01-2025  ...   \n",
       "\n",
       "       Merchant_Category  Account_Balance Transaction_Device  \\\n",
       "0             Restaurant         74557.27    Voice Assistant   \n",
       "1             Restaurant         74622.66  POS Mobile Device   \n",
       "2              Groceries         66817.99                ATM   \n",
       "3          Entertainment         58177.08     POS Mobile App   \n",
       "4          Entertainment         16108.56       Virtual Card   \n",
       "...                  ...              ...                ...   \n",
       "199995        Restaurant         37475.11     Desktop/Laptop   \n",
       "199996         Groceries         53037.20                ATM   \n",
       "199997            Health         96225.36                ATM   \n",
       "199998       Electronics         89599.90    Voice Assistant   \n",
       "199999       Electronics         15066.24       Virtual Card   \n",
       "\n",
       "                                 Transaction_Location Device_Type  Is_Fraud  \\\n",
       "0                          Thiruvananthapuram, Kerala         POS         0   \n",
       "1                                 Nashik, Maharashtra     Desktop         0   \n",
       "2                                    Bhagalpur, Bihar     Desktop         0   \n",
       "3                                 Chennai, Tamil Nadu      Mobile         0   \n",
       "4                                    Amritsar, Punjab      Mobile         0   \n",
       "...                                               ...         ...       ...   \n",
       "199995  Diu, Dadra and Nagar Haveli and Daman and Diu         ATM         0   \n",
       "199996                             Kangpokpi, Manipur         ATM         0   \n",
       "199997                         Chandigarh, Chandigarh     Desktop         0   \n",
       "199998                           Nizamabad, Telangana     Desktop         0   \n",
       "199999                               Kohima, Nagaland      Mobile         0   \n",
       "\n",
       "       Transaction_Currency Customer_Contact     Transaction_Description  \\\n",
       "0                       INR   +9198579XXXXXX         Bitcoin transaction   \n",
       "1                       INR   +9191074XXXXXX            Grocery delivery   \n",
       "2                       INR   +9197745XXXXXX      Mutual fund investment   \n",
       "3                       INR   +9195889XXXXXX               Food delivery   \n",
       "4                       INR   +9195316XXXXXX              Debt repayment   \n",
       "...                     ...              ...                         ...   \n",
       "199995                  INR   +9192629XXXXXX              ATM withdrawal   \n",
       "199996                  INR   +9198116XXXXXX            Subscription box   \n",
       "199997                  INR   +9192601XXXXXX            Charity donation   \n",
       "199998                  INR   +9197537XXXXXX  Tourist attraction payment   \n",
       "199999                  INR   +9193961XXXXXX         Installment payment   \n",
       "\n",
       "                  Customer_Email  \n",
       "0            oshaXXXXX@XXXXX.com  \n",
       "1        hredhaanXXXX@XXXXXX.com  \n",
       "2            ekaniXXX@XXXXXX.com  \n",
       "3        yaminiXXXXX@XXXXXXX.com  \n",
       "4         kritikaXXXX@XXXXXX.com  \n",
       "...                          ...  \n",
       "199995  vedhikaXXXXX@XXXXXXX.com  \n",
       "199996       aashiXXX@XXXXXX.com  \n",
       "199997    dayitaXXXX@XXXXXXX.com  \n",
       "199998       unnatiXXX@XXXXX.com  \n",
       "199999    gopalXXXXX@XXXXXXX.com  \n",
       "\n",
       "[200000 rows x 24 columns]"
      ]
     },
     "execution_count": 2,
     "metadata": {},
     "output_type": "execute_result"
    }
   ],
   "source": [
    "df=pd.read_csv('fraud.csv')\n",
    "df"
   ]
  },
  {
   "cell_type": "code",
   "execution_count": 3,
   "id": "b3b4d96e-065a-4c5e-ac77-c357fd8f9da2",
   "metadata": {
    "tags": []
   },
   "outputs": [],
   "source": [
    "#drop unrelated column\n",
    "df=df.drop(columns=['Customer_ID','Customer_Name','Transaction_ID','Merchant_ID','Transaction_Currency','Customer_Contact','Customer_Email','Transaction_Date'],axis=1)"
   ]
  },
  {
   "cell_type": "code",
   "execution_count": 4,
   "id": "f8ed73ad-dceb-46af-983c-b34c7212f8da",
   "metadata": {
    "tags": []
   },
   "outputs": [
    {
     "data": {
      "text/plain": [
       "Gender                     0\n",
       "Age                        0\n",
       "State                      0\n",
       "City                       0\n",
       "Bank_Branch                0\n",
       "Account_Type               0\n",
       "Transaction_Time           0\n",
       "Transaction_Amount         0\n",
       "Transaction_Type           0\n",
       "Merchant_Category          0\n",
       "Account_Balance            0\n",
       "Transaction_Device         0\n",
       "Transaction_Location       0\n",
       "Device_Type                0\n",
       "Is_Fraud                   0\n",
       "Transaction_Description    0\n",
       "dtype: int64"
      ]
     },
     "execution_count": 4,
     "metadata": {},
     "output_type": "execute_result"
    }
   ],
   "source": [
    "df.isnull().sum(axis=0)\n",
    "# there is no null value in this dataset"
   ]
  },
  {
   "cell_type": "code",
   "execution_count": 5,
   "id": "00b64de9-50e0-48e6-bc3a-e854d7bffe1d",
   "metadata": {
    "tags": []
   },
   "outputs": [
    {
     "data": {
      "text/plain": [
       "Gender                      object\n",
       "Age                          int64\n",
       "State                       object\n",
       "City                        object\n",
       "Bank_Branch                 object\n",
       "Account_Type                object\n",
       "Transaction_Time            object\n",
       "Transaction_Amount         float64\n",
       "Transaction_Type            object\n",
       "Merchant_Category           object\n",
       "Account_Balance            float64\n",
       "Transaction_Device          object\n",
       "Transaction_Location        object\n",
       "Device_Type                 object\n",
       "Is_Fraud                     int64\n",
       "Transaction_Description     object\n",
       "dtype: object"
      ]
     },
     "execution_count": 5,
     "metadata": {},
     "output_type": "execute_result"
    }
   ],
   "source": [
    "df.dtypes"
   ]
  },
  {
   "cell_type": "code",
   "execution_count": 6,
   "id": "cf64f098-c246-4b6c-b55e-3a0713c89fb2",
   "metadata": {
    "tags": []
   },
   "outputs": [
    {
     "data": {
      "text/html": [
       "<div>\n",
       "<style scoped>\n",
       "    .dataframe tbody tr th:only-of-type {\n",
       "        vertical-align: middle;\n",
       "    }\n",
       "\n",
       "    .dataframe tbody tr th {\n",
       "        vertical-align: top;\n",
       "    }\n",
       "\n",
       "    .dataframe thead th {\n",
       "        text-align: right;\n",
       "    }\n",
       "</style>\n",
       "<table border=\"1\" class=\"dataframe\">\n",
       "  <thead>\n",
       "    <tr style=\"text-align: right;\">\n",
       "      <th></th>\n",
       "      <th>Age</th>\n",
       "      <th>Transaction_Amount</th>\n",
       "      <th>Account_Balance</th>\n",
       "      <th>Is_Fraud</th>\n",
       "    </tr>\n",
       "  </thead>\n",
       "  <tbody>\n",
       "    <tr>\n",
       "      <th>count</th>\n",
       "      <td>189912.000000</td>\n",
       "      <td>189912.000000</td>\n",
       "      <td>189912.000000</td>\n",
       "      <td>189912.0</td>\n",
       "    </tr>\n",
       "    <tr>\n",
       "      <th>mean</th>\n",
       "      <td>44.020457</td>\n",
       "      <td>49551.831380</td>\n",
       "      <td>52437.197166</td>\n",
       "      <td>0.0</td>\n",
       "    </tr>\n",
       "    <tr>\n",
       "      <th>std</th>\n",
       "      <td>15.290050</td>\n",
       "      <td>28541.881772</td>\n",
       "      <td>27404.829445</td>\n",
       "      <td>0.0</td>\n",
       "    </tr>\n",
       "    <tr>\n",
       "      <th>min</th>\n",
       "      <td>18.000000</td>\n",
       "      <td>10.290000</td>\n",
       "      <td>5000.820000</td>\n",
       "      <td>0.0</td>\n",
       "    </tr>\n",
       "    <tr>\n",
       "      <th>25%</th>\n",
       "      <td>31.000000</td>\n",
       "      <td>24877.685000</td>\n",
       "      <td>28723.887500</td>\n",
       "      <td>0.0</td>\n",
       "    </tr>\n",
       "    <tr>\n",
       "      <th>50%</th>\n",
       "      <td>44.000000</td>\n",
       "      <td>49517.420000</td>\n",
       "      <td>52373.715000</td>\n",
       "      <td>0.0</td>\n",
       "    </tr>\n",
       "    <tr>\n",
       "      <th>75%</th>\n",
       "      <td>57.000000</td>\n",
       "      <td>74326.872500</td>\n",
       "      <td>76148.875000</td>\n",
       "      <td>0.0</td>\n",
       "    </tr>\n",
       "    <tr>\n",
       "      <th>max</th>\n",
       "      <td>70.000000</td>\n",
       "      <td>98999.980000</td>\n",
       "      <td>99998.680000</td>\n",
       "      <td>0.0</td>\n",
       "    </tr>\n",
       "  </tbody>\n",
       "</table>\n",
       "</div>"
      ],
      "text/plain": [
       "                 Age  Transaction_Amount  Account_Balance  Is_Fraud\n",
       "count  189912.000000       189912.000000    189912.000000  189912.0\n",
       "mean       44.020457        49551.831380     52437.197166       0.0\n",
       "std        15.290050        28541.881772     27404.829445       0.0\n",
       "min        18.000000           10.290000      5000.820000       0.0\n",
       "25%        31.000000        24877.685000     28723.887500       0.0\n",
       "50%        44.000000        49517.420000     52373.715000       0.0\n",
       "75%        57.000000        74326.872500     76148.875000       0.0\n",
       "max        70.000000        98999.980000     99998.680000       0.0"
      ]
     },
     "execution_count": 6,
     "metadata": {},
     "output_type": "execute_result"
    }
   ],
   "source": [
    "df[df['Is_Fraud']==0].describe()"
   ]
  },
  {
   "cell_type": "code",
   "execution_count": 7,
   "id": "c398454f-0ef6-4a18-9277-a604304c86b3",
   "metadata": {
    "tags": []
   },
   "outputs": [
    {
     "data": {
      "text/html": [
       "<div>\n",
       "<style scoped>\n",
       "    .dataframe tbody tr th:only-of-type {\n",
       "        vertical-align: middle;\n",
       "    }\n",
       "\n",
       "    .dataframe tbody tr th {\n",
       "        vertical-align: top;\n",
       "    }\n",
       "\n",
       "    .dataframe thead th {\n",
       "        text-align: right;\n",
       "    }\n",
       "</style>\n",
       "<table border=\"1\" class=\"dataframe\">\n",
       "  <thead>\n",
       "    <tr style=\"text-align: right;\">\n",
       "      <th></th>\n",
       "      <th>Age</th>\n",
       "      <th>Transaction_Amount</th>\n",
       "      <th>Account_Balance</th>\n",
       "      <th>Is_Fraud</th>\n",
       "    </tr>\n",
       "  </thead>\n",
       "  <tbody>\n",
       "    <tr>\n",
       "      <th>count</th>\n",
       "      <td>10088.000000</td>\n",
       "      <td>10088.000000</td>\n",
       "      <td>10088.000000</td>\n",
       "      <td>10088.0</td>\n",
       "    </tr>\n",
       "    <tr>\n",
       "      <th>mean</th>\n",
       "      <td>43.914453</td>\n",
       "      <td>49277.925242</td>\n",
       "      <td>52452.891412</td>\n",
       "      <td>1.0</td>\n",
       "    </tr>\n",
       "    <tr>\n",
       "      <th>std</th>\n",
       "      <td>15.265150</td>\n",
       "      <td>28739.518843</td>\n",
       "      <td>27300.467424</td>\n",
       "      <td>0.0</td>\n",
       "    </tr>\n",
       "    <tr>\n",
       "      <th>min</th>\n",
       "      <td>18.000000</td>\n",
       "      <td>10.410000</td>\n",
       "      <td>5003.420000</td>\n",
       "      <td>1.0</td>\n",
       "    </tr>\n",
       "    <tr>\n",
       "      <th>25%</th>\n",
       "      <td>31.000000</td>\n",
       "      <td>24420.042500</td>\n",
       "      <td>29122.987500</td>\n",
       "      <td>1.0</td>\n",
       "    </tr>\n",
       "    <tr>\n",
       "      <th>50%</th>\n",
       "      <td>44.000000</td>\n",
       "      <td>49162.945000</td>\n",
       "      <td>52344.725000</td>\n",
       "      <td>1.0</td>\n",
       "    </tr>\n",
       "    <tr>\n",
       "      <th>75%</th>\n",
       "      <td>57.000000</td>\n",
       "      <td>74068.717500</td>\n",
       "      <td>76116.032500</td>\n",
       "      <td>1.0</td>\n",
       "    </tr>\n",
       "    <tr>\n",
       "      <th>max</th>\n",
       "      <td>70.000000</td>\n",
       "      <td>98999.020000</td>\n",
       "      <td>99999.950000</td>\n",
       "      <td>1.0</td>\n",
       "    </tr>\n",
       "  </tbody>\n",
       "</table>\n",
       "</div>"
      ],
      "text/plain": [
       "                Age  Transaction_Amount  Account_Balance  Is_Fraud\n",
       "count  10088.000000        10088.000000     10088.000000   10088.0\n",
       "mean      43.914453        49277.925242     52452.891412       1.0\n",
       "std       15.265150        28739.518843     27300.467424       0.0\n",
       "min       18.000000           10.410000      5003.420000       1.0\n",
       "25%       31.000000        24420.042500     29122.987500       1.0\n",
       "50%       44.000000        49162.945000     52344.725000       1.0\n",
       "75%       57.000000        74068.717500     76116.032500       1.0\n",
       "max       70.000000        98999.020000     99999.950000       1.0"
      ]
     },
     "execution_count": 7,
     "metadata": {},
     "output_type": "execute_result"
    }
   ],
   "source": [
    "fraud=df[df['Is_Fraud']==1]\n",
    "fraud.describe()"
   ]
  },
  {
   "cell_type": "markdown",
   "id": "67fc6edc-17e7-40b2-a112-768c10d9a12d",
   "metadata": {},
   "source": [
    "It seems that fraud and not fraud have the similar age, transaction amount and balance"
   ]
  },
  {
   "cell_type": "code",
   "execution_count": 8,
   "id": "b8719198-9e26-4270-81a0-f936240e029b",
   "metadata": {
    "tags": []
   },
   "outputs": [
    {
     "data": {
      "text/plain": [
       "Chandigarh     390\n",
       "Kavaratti      332\n",
       "Udaipur        144\n",
       "Silvassa       108\n",
       "Daman          101\n",
       "Port Blair      99\n",
       "Car Nicobar     97\n",
       "Jorethang       96\n",
       "Diu             96\n",
       "Mokokchung      90\n",
       "Name: City, dtype: int64"
      ]
     },
     "execution_count": 8,
     "metadata": {},
     "output_type": "execute_result"
    }
   ],
   "source": [
    "fraud=df[df['Is_Fraud']==1]\n",
    "fraud['City'].value_counts().sort_values(ascending=False).head(10)"
   ]
  },
  {
   "cell_type": "code",
   "execution_count": 9,
   "id": "4040b921-edbc-4a98-9055-00b9b478f749",
   "metadata": {
    "tags": []
   },
   "outputs": [
    {
     "data": {
      "text/plain": [
       "Chandigarh Branch     390\n",
       "Kavaratti Branch      332\n",
       "Udaipur Branch        144\n",
       "Silvassa Branch       108\n",
       "Daman Branch          101\n",
       "Port Blair Branch      99\n",
       "Car Nicobar Branch     97\n",
       "Jorethang Branch       96\n",
       "Diu Branch             96\n",
       "Mokokchung Branch      90\n",
       "Name: Bank_Branch, dtype: int64"
      ]
     },
     "execution_count": 9,
     "metadata": {},
     "output_type": "execute_result"
    }
   ],
   "source": [
    "fraud['Bank_Branch'].value_counts().sort_values(ascending=False).head(10)"
   ]
  },
  {
   "cell_type": "code",
   "execution_count": 10,
   "id": "763a74f6-ca3a-41d2-b52d-27dd1e980a55",
   "metadata": {
    "tags": []
   },
   "outputs": [
    {
     "data": {
      "text/plain": [
       "Business    3436\n",
       "Savings     3349\n",
       "Checking    3303\n",
       "Name: Account_Type, dtype: int64"
      ]
     },
     "execution_count": 10,
     "metadata": {},
     "output_type": "execute_result"
    }
   ],
   "source": [
    "fraud['Account_Type'].value_counts().sort_values(ascending=False).head(10)"
   ]
  },
  {
   "cell_type": "code",
   "execution_count": 11,
   "id": "81201088-8eb7-41f8-9798-6856abe572f1",
   "metadata": {
    "tags": []
   },
   "outputs": [
    {
     "data": {
      "text/plain": [
       "Transfer        2073\n",
       "Credit          2048\n",
       "Debit           2033\n",
       "Bill Payment    1973\n",
       "Withdrawal      1961\n",
       "Name: Transaction_Type, dtype: int64"
      ]
     },
     "execution_count": 11,
     "metadata": {},
     "output_type": "execute_result"
    }
   ],
   "source": [
    "fraud['Transaction_Type'].value_counts().sort_values(ascending=False).head(10)"
   ]
  },
  {
   "cell_type": "code",
   "execution_count": 12,
   "id": "7508fd12-1fc5-4694-aad7-9fe0fd7584db",
   "metadata": {
    "tags": []
   },
   "outputs": [
    {
     "data": {
      "text/plain": [
       "Clothing         1734\n",
       "Groceries        1722\n",
       "Restaurant       1688\n",
       "Electronics      1681\n",
       "Health           1651\n",
       "Entertainment    1612\n",
       "Name: Merchant_Category, dtype: int64"
      ]
     },
     "execution_count": 12,
     "metadata": {},
     "output_type": "execute_result"
    }
   ],
   "source": [
    "fraud['Merchant_Category'].value_counts().sort_values(ascending=False).head(10)"
   ]
  },
  {
   "cell_type": "markdown",
   "id": "92fe2d31-a579-4950-b94d-57e3c097d1b1",
   "metadata": {},
   "source": [
    "As we can observe, fraud happens more in Chandigarh, mostly on business,saving,checking account, on five type, six merchants and using four device equally."
   ]
  },
  {
   "cell_type": "markdown",
   "id": "557a7213-fc73-474a-9cfd-ecf5a5c7989a",
   "metadata": {
    "tags": []
   },
   "source": [
    "there are many object in our dataset, let's do feature engineering first."
   ]
  },
  {
   "cell_type": "code",
   "execution_count": 13,
   "id": "3dcaee65-c804-4dc5-9a0c-5d14c6d512b6",
   "metadata": {
    "tags": []
   },
   "outputs": [
    {
     "data": {
      "text/html": [
       "<div>\n",
       "<style scoped>\n",
       "    .dataframe tbody tr th:only-of-type {\n",
       "        vertical-align: middle;\n",
       "    }\n",
       "\n",
       "    .dataframe tbody tr th {\n",
       "        vertical-align: top;\n",
       "    }\n",
       "\n",
       "    .dataframe thead th {\n",
       "        text-align: right;\n",
       "    }\n",
       "</style>\n",
       "<table border=\"1\" class=\"dataframe\">\n",
       "  <thead>\n",
       "    <tr style=\"text-align: right;\">\n",
       "      <th></th>\n",
       "      <th>Gender</th>\n",
       "      <th>Age</th>\n",
       "      <th>State</th>\n",
       "      <th>City</th>\n",
       "      <th>Bank_Branch</th>\n",
       "      <th>Account_Type</th>\n",
       "      <th>Transaction_Time</th>\n",
       "      <th>Transaction_Amount</th>\n",
       "      <th>Transaction_Type</th>\n",
       "      <th>Merchant_Category</th>\n",
       "      <th>Account_Balance</th>\n",
       "      <th>Transaction_Device</th>\n",
       "      <th>Transaction_Location</th>\n",
       "      <th>Device_Type</th>\n",
       "      <th>Is_Fraud</th>\n",
       "      <th>Transaction_Description</th>\n",
       "    </tr>\n",
       "  </thead>\n",
       "  <tbody>\n",
       "    <tr>\n",
       "      <th>0</th>\n",
       "      <td>Male</td>\n",
       "      <td>60</td>\n",
       "      <td>Kerala</td>\n",
       "      <td>Thiruvananthapuram</td>\n",
       "      <td>Thiruvananthapuram Branch</td>\n",
       "      <td>Savings</td>\n",
       "      <td>16</td>\n",
       "      <td>32415.45</td>\n",
       "      <td>Transfer</td>\n",
       "      <td>Restaurant</td>\n",
       "      <td>74557.27</td>\n",
       "      <td>Voice Assistant</td>\n",
       "      <td>Thiruvananthapuram, Kerala</td>\n",
       "      <td>POS</td>\n",
       "      <td>0</td>\n",
       "      <td>Bitcoin transaction</td>\n",
       "    </tr>\n",
       "    <tr>\n",
       "      <th>1</th>\n",
       "      <td>Female</td>\n",
       "      <td>51</td>\n",
       "      <td>Maharashtra</td>\n",
       "      <td>Nashik</td>\n",
       "      <td>Nashik Branch</td>\n",
       "      <td>Business</td>\n",
       "      <td>17</td>\n",
       "      <td>43622.60</td>\n",
       "      <td>Bill Payment</td>\n",
       "      <td>Restaurant</td>\n",
       "      <td>74622.66</td>\n",
       "      <td>POS Mobile Device</td>\n",
       "      <td>Nashik, Maharashtra</td>\n",
       "      <td>Desktop</td>\n",
       "      <td>0</td>\n",
       "      <td>Grocery delivery</td>\n",
       "    </tr>\n",
       "    <tr>\n",
       "      <th>2</th>\n",
       "      <td>Male</td>\n",
       "      <td>20</td>\n",
       "      <td>Bihar</td>\n",
       "      <td>Bhagalpur</td>\n",
       "      <td>Bhagalpur Branch</td>\n",
       "      <td>Savings</td>\n",
       "      <td>3</td>\n",
       "      <td>63062.56</td>\n",
       "      <td>Bill Payment</td>\n",
       "      <td>Groceries</td>\n",
       "      <td>66817.99</td>\n",
       "      <td>ATM</td>\n",
       "      <td>Bhagalpur, Bihar</td>\n",
       "      <td>Desktop</td>\n",
       "      <td>0</td>\n",
       "      <td>Mutual fund investment</td>\n",
       "    </tr>\n",
       "    <tr>\n",
       "      <th>3</th>\n",
       "      <td>Female</td>\n",
       "      <td>57</td>\n",
       "      <td>Tamil Nadu</td>\n",
       "      <td>Chennai</td>\n",
       "      <td>Chennai Branch</td>\n",
       "      <td>Business</td>\n",
       "      <td>12</td>\n",
       "      <td>14000.72</td>\n",
       "      <td>Debit</td>\n",
       "      <td>Entertainment</td>\n",
       "      <td>58177.08</td>\n",
       "      <td>POS Mobile App</td>\n",
       "      <td>Chennai, Tamil Nadu</td>\n",
       "      <td>Mobile</td>\n",
       "      <td>0</td>\n",
       "      <td>Food delivery</td>\n",
       "    </tr>\n",
       "    <tr>\n",
       "      <th>4</th>\n",
       "      <td>Female</td>\n",
       "      <td>43</td>\n",
       "      <td>Punjab</td>\n",
       "      <td>Amritsar</td>\n",
       "      <td>Amritsar Branch</td>\n",
       "      <td>Savings</td>\n",
       "      <td>18</td>\n",
       "      <td>18335.16</td>\n",
       "      <td>Transfer</td>\n",
       "      <td>Entertainment</td>\n",
       "      <td>16108.56</td>\n",
       "      <td>Virtual Card</td>\n",
       "      <td>Amritsar, Punjab</td>\n",
       "      <td>Mobile</td>\n",
       "      <td>0</td>\n",
       "      <td>Debt repayment</td>\n",
       "    </tr>\n",
       "    <tr>\n",
       "      <th>...</th>\n",
       "      <td>...</td>\n",
       "      <td>...</td>\n",
       "      <td>...</td>\n",
       "      <td>...</td>\n",
       "      <td>...</td>\n",
       "      <td>...</td>\n",
       "      <td>...</td>\n",
       "      <td>...</td>\n",
       "      <td>...</td>\n",
       "      <td>...</td>\n",
       "      <td>...</td>\n",
       "      <td>...</td>\n",
       "      <td>...</td>\n",
       "      <td>...</td>\n",
       "      <td>...</td>\n",
       "      <td>...</td>\n",
       "    </tr>\n",
       "    <tr>\n",
       "      <th>199995</th>\n",
       "      <td>Female</td>\n",
       "      <td>55</td>\n",
       "      <td>Dadra and Nagar Haveli and Daman and Diu</td>\n",
       "      <td>Diu</td>\n",
       "      <td>Diu Branch</td>\n",
       "      <td>Business</td>\n",
       "      <td>18</td>\n",
       "      <td>98513.74</td>\n",
       "      <td>Credit</td>\n",
       "      <td>Restaurant</td>\n",
       "      <td>37475.11</td>\n",
       "      <td>Desktop/Laptop</td>\n",
       "      <td>Diu, Dadra and Nagar Haveli and Daman and Diu</td>\n",
       "      <td>ATM</td>\n",
       "      <td>0</td>\n",
       "      <td>ATM withdrawal</td>\n",
       "    </tr>\n",
       "    <tr>\n",
       "      <th>199996</th>\n",
       "      <td>Male</td>\n",
       "      <td>51</td>\n",
       "      <td>Manipur</td>\n",
       "      <td>Kangpokpi</td>\n",
       "      <td>Kangpokpi Branch</td>\n",
       "      <td>Business</td>\n",
       "      <td>20</td>\n",
       "      <td>40593.55</td>\n",
       "      <td>Withdrawal</td>\n",
       "      <td>Groceries</td>\n",
       "      <td>53037.20</td>\n",
       "      <td>ATM</td>\n",
       "      <td>Kangpokpi, Manipur</td>\n",
       "      <td>ATM</td>\n",
       "      <td>0</td>\n",
       "      <td>Subscription box</td>\n",
       "    </tr>\n",
       "    <tr>\n",
       "      <th>199997</th>\n",
       "      <td>Female</td>\n",
       "      <td>41</td>\n",
       "      <td>Chandigarh</td>\n",
       "      <td>Chandigarh</td>\n",
       "      <td>Chandigarh Branch</td>\n",
       "      <td>Savings</td>\n",
       "      <td>10</td>\n",
       "      <td>61579.70</td>\n",
       "      <td>Withdrawal</td>\n",
       "      <td>Health</td>\n",
       "      <td>96225.36</td>\n",
       "      <td>ATM</td>\n",
       "      <td>Chandigarh, Chandigarh</td>\n",
       "      <td>Desktop</td>\n",
       "      <td>0</td>\n",
       "      <td>Charity donation</td>\n",
       "    </tr>\n",
       "    <tr>\n",
       "      <th>199998</th>\n",
       "      <td>Female</td>\n",
       "      <td>28</td>\n",
       "      <td>Telangana</td>\n",
       "      <td>Nizamabad</td>\n",
       "      <td>Nizamabad Branch</td>\n",
       "      <td>Checking</td>\n",
       "      <td>6</td>\n",
       "      <td>39488.22</td>\n",
       "      <td>Debit</td>\n",
       "      <td>Electronics</td>\n",
       "      <td>89599.90</td>\n",
       "      <td>Voice Assistant</td>\n",
       "      <td>Nizamabad, Telangana</td>\n",
       "      <td>Desktop</td>\n",
       "      <td>0</td>\n",
       "      <td>Tourist attraction payment</td>\n",
       "    </tr>\n",
       "    <tr>\n",
       "      <th>199999</th>\n",
       "      <td>Male</td>\n",
       "      <td>34</td>\n",
       "      <td>Nagaland</td>\n",
       "      <td>Kohima</td>\n",
       "      <td>Kohima Branch</td>\n",
       "      <td>Business</td>\n",
       "      <td>15</td>\n",
       "      <td>58622.49</td>\n",
       "      <td>Debit</td>\n",
       "      <td>Electronics</td>\n",
       "      <td>15066.24</td>\n",
       "      <td>Virtual Card</td>\n",
       "      <td>Kohima, Nagaland</td>\n",
       "      <td>Mobile</td>\n",
       "      <td>0</td>\n",
       "      <td>Installment payment</td>\n",
       "    </tr>\n",
       "  </tbody>\n",
       "</table>\n",
       "<p>200000 rows × 16 columns</p>\n",
       "</div>"
      ],
      "text/plain": [
       "        Gender  Age                                     State  \\\n",
       "0         Male   60                                    Kerala   \n",
       "1       Female   51                               Maharashtra   \n",
       "2         Male   20                                     Bihar   \n",
       "3       Female   57                                Tamil Nadu   \n",
       "4       Female   43                                    Punjab   \n",
       "...        ...  ...                                       ...   \n",
       "199995  Female   55  Dadra and Nagar Haveli and Daman and Diu   \n",
       "199996    Male   51                                   Manipur   \n",
       "199997  Female   41                                Chandigarh   \n",
       "199998  Female   28                                 Telangana   \n",
       "199999    Male   34                                  Nagaland   \n",
       "\n",
       "                      City                Bank_Branch Account_Type  \\\n",
       "0       Thiruvananthapuram  Thiruvananthapuram Branch      Savings   \n",
       "1                   Nashik              Nashik Branch     Business   \n",
       "2                Bhagalpur           Bhagalpur Branch      Savings   \n",
       "3                  Chennai             Chennai Branch     Business   \n",
       "4                 Amritsar            Amritsar Branch      Savings   \n",
       "...                    ...                        ...          ...   \n",
       "199995                 Diu                 Diu Branch     Business   \n",
       "199996           Kangpokpi           Kangpokpi Branch     Business   \n",
       "199997          Chandigarh          Chandigarh Branch      Savings   \n",
       "199998           Nizamabad           Nizamabad Branch     Checking   \n",
       "199999              Kohima              Kohima Branch     Business   \n",
       "\n",
       "        Transaction_Time  Transaction_Amount Transaction_Type  \\\n",
       "0                     16            32415.45         Transfer   \n",
       "1                     17            43622.60     Bill Payment   \n",
       "2                      3            63062.56     Bill Payment   \n",
       "3                     12            14000.72            Debit   \n",
       "4                     18            18335.16         Transfer   \n",
       "...                  ...                 ...              ...   \n",
       "199995                18            98513.74           Credit   \n",
       "199996                20            40593.55       Withdrawal   \n",
       "199997                10            61579.70       Withdrawal   \n",
       "199998                 6            39488.22            Debit   \n",
       "199999                15            58622.49            Debit   \n",
       "\n",
       "       Merchant_Category  Account_Balance Transaction_Device  \\\n",
       "0             Restaurant         74557.27    Voice Assistant   \n",
       "1             Restaurant         74622.66  POS Mobile Device   \n",
       "2              Groceries         66817.99                ATM   \n",
       "3          Entertainment         58177.08     POS Mobile App   \n",
       "4          Entertainment         16108.56       Virtual Card   \n",
       "...                  ...              ...                ...   \n",
       "199995        Restaurant         37475.11     Desktop/Laptop   \n",
       "199996         Groceries         53037.20                ATM   \n",
       "199997            Health         96225.36                ATM   \n",
       "199998       Electronics         89599.90    Voice Assistant   \n",
       "199999       Electronics         15066.24       Virtual Card   \n",
       "\n",
       "                                 Transaction_Location Device_Type  Is_Fraud  \\\n",
       "0                          Thiruvananthapuram, Kerala         POS         0   \n",
       "1                                 Nashik, Maharashtra     Desktop         0   \n",
       "2                                    Bhagalpur, Bihar     Desktop         0   \n",
       "3                                 Chennai, Tamil Nadu      Mobile         0   \n",
       "4                                    Amritsar, Punjab      Mobile         0   \n",
       "...                                               ...         ...       ...   \n",
       "199995  Diu, Dadra and Nagar Haveli and Daman and Diu         ATM         0   \n",
       "199996                             Kangpokpi, Manipur         ATM         0   \n",
       "199997                         Chandigarh, Chandigarh     Desktop         0   \n",
       "199998                           Nizamabad, Telangana     Desktop         0   \n",
       "199999                               Kohima, Nagaland      Mobile         0   \n",
       "\n",
       "           Transaction_Description  \n",
       "0              Bitcoin transaction  \n",
       "1                 Grocery delivery  \n",
       "2           Mutual fund investment  \n",
       "3                    Food delivery  \n",
       "4                   Debt repayment  \n",
       "...                            ...  \n",
       "199995              ATM withdrawal  \n",
       "199996            Subscription box  \n",
       "199997            Charity donation  \n",
       "199998  Tourist attraction payment  \n",
       "199999         Installment payment  \n",
       "\n",
       "[200000 rows x 16 columns]"
      ]
     },
     "execution_count": 13,
     "metadata": {},
     "output_type": "execute_result"
    }
   ],
   "source": [
    "df['Transaction_Time'] = pd.to_datetime(df['Transaction_Time'], format='%H:%M:%S')\n",
    "df['Transaction_Time']=df['Transaction_Time'].dt.hour\n",
    "df"
   ]
  },
  {
   "cell_type": "markdown",
   "id": "107d15a0-d982-4bdd-bb4e-79aea62e3c6b",
   "metadata": {},
   "source": [
    "I will use sample to reduce the time"
   ]
  },
  {
   "cell_type": "code",
   "execution_count": 14,
   "id": "fc418f7f-ed61-41a3-9705-c0ec9a7c08c4",
   "metadata": {
    "tags": []
   },
   "outputs": [
    {
     "data": {
      "text/plain": [
       "(20000, 16)"
      ]
     },
     "execution_count": 14,
     "metadata": {},
     "output_type": "execute_result"
    }
   ],
   "source": [
    "sample_df = df.sample(frac=0.1, random_state=42)\n",
    "sample=sample_df.copy().reset_index().drop(['index'],axis=1)\n",
    "sample_df.shape"
   ]
  },
  {
   "cell_type": "markdown",
   "id": "5b1b0871-3b5c-4a95-b017-2a74f4bc3db7",
   "metadata": {},
   "source": [
    "to simply, we will just do label encoding here"
   ]
  },
  {
   "cell_type": "code",
   "execution_count": 15,
   "id": "17a1c4ac-deb8-4872-916e-eaf4b69acdec",
   "metadata": {
    "tags": []
   },
   "outputs": [],
   "source": [
    "label_encoder=LabelEncoder()\n",
    "df1=df.copy()"
   ]
  },
  {
   "cell_type": "code",
   "execution_count": 16,
   "id": "e41635b6-c601-49e1-8d64-3d3e2e9b3208",
   "metadata": {
    "tags": []
   },
   "outputs": [],
   "source": [
    "for column in sample_df.select_dtypes('object').columns:\n",
    "       sample_df[column]=label_encoder.fit_transform(sample_df[column])"
   ]
  },
  {
   "cell_type": "code",
   "execution_count": 17,
   "id": "9da5c292-66c8-4e0f-83cb-fb18cb7e9f16",
   "metadata": {
    "tags": []
   },
   "outputs": [
    {
     "data": {
      "text/plain": [
       "(20000, 16)"
      ]
     },
     "execution_count": 17,
     "metadata": {},
     "output_type": "execute_result"
    }
   ],
   "source": [
    "sample_df.shape"
   ]
  },
  {
   "cell_type": "code",
   "execution_count": 18,
   "id": "dfa267b2-1107-484e-9ccf-44352034e313",
   "metadata": {
    "tags": []
   },
   "outputs": [
    {
     "data": {
      "text/html": [
       "<div>\n",
       "<style scoped>\n",
       "    .dataframe tbody tr th:only-of-type {\n",
       "        vertical-align: middle;\n",
       "    }\n",
       "\n",
       "    .dataframe tbody tr th {\n",
       "        vertical-align: top;\n",
       "    }\n",
       "\n",
       "    .dataframe thead th {\n",
       "        text-align: right;\n",
       "    }\n",
       "</style>\n",
       "<table border=\"1\" class=\"dataframe\">\n",
       "  <thead>\n",
       "    <tr style=\"text-align: right;\">\n",
       "      <th></th>\n",
       "      <th>Gender</th>\n",
       "      <th>Age</th>\n",
       "      <th>State</th>\n",
       "      <th>City</th>\n",
       "      <th>Bank_Branch</th>\n",
       "      <th>Account_Type</th>\n",
       "      <th>Transaction_Time</th>\n",
       "      <th>Transaction_Amount</th>\n",
       "      <th>Transaction_Type</th>\n",
       "      <th>Merchant_Category</th>\n",
       "      <th>Account_Balance</th>\n",
       "      <th>Transaction_Device</th>\n",
       "      <th>Transaction_Location</th>\n",
       "      <th>Device_Type</th>\n",
       "      <th>Is_Fraud</th>\n",
       "      <th>Transaction_Description</th>\n",
       "    </tr>\n",
       "  </thead>\n",
       "  <tbody>\n",
       "    <tr>\n",
       "      <th>119737</th>\n",
       "      <td>0</td>\n",
       "      <td>70</td>\n",
       "      <td>19</td>\n",
       "      <td>23</td>\n",
       "      <td>23</td>\n",
       "      <td>1</td>\n",
       "      <td>21</td>\n",
       "      <td>73990.02</td>\n",
       "      <td>0</td>\n",
       "      <td>3</td>\n",
       "      <td>26998.49</td>\n",
       "      <td>10</td>\n",
       "      <td>25</td>\n",
       "      <td>2</td>\n",
       "      <td>0</td>\n",
       "      <td>146</td>\n",
       "    </tr>\n",
       "    <tr>\n",
       "      <th>72272</th>\n",
       "      <td>0</td>\n",
       "      <td>27</td>\n",
       "      <td>12</td>\n",
       "      <td>120</td>\n",
       "      <td>120</td>\n",
       "      <td>0</td>\n",
       "      <td>17</td>\n",
       "      <td>34258.19</td>\n",
       "      <td>1</td>\n",
       "      <td>0</td>\n",
       "      <td>16474.66</td>\n",
       "      <td>18</td>\n",
       "      <td>122</td>\n",
       "      <td>3</td>\n",
       "      <td>0</td>\n",
       "      <td>31</td>\n",
       "    </tr>\n",
       "    <tr>\n",
       "      <th>158154</th>\n",
       "      <td>0</td>\n",
       "      <td>35</td>\n",
       "      <td>24</td>\n",
       "      <td>110</td>\n",
       "      <td>110</td>\n",
       "      <td>0</td>\n",
       "      <td>0</td>\n",
       "      <td>35041.78</td>\n",
       "      <td>4</td>\n",
       "      <td>5</td>\n",
       "      <td>79427.51</td>\n",
       "      <td>1</td>\n",
       "      <td>112</td>\n",
       "      <td>1</td>\n",
       "      <td>0</td>\n",
       "      <td>81</td>\n",
       "    </tr>\n",
       "    <tr>\n",
       "      <th>65426</th>\n",
       "      <td>1</td>\n",
       "      <td>56</td>\n",
       "      <td>5</td>\n",
       "      <td>21</td>\n",
       "      <td>21</td>\n",
       "      <td>2</td>\n",
       "      <td>18</td>\n",
       "      <td>4070.99</td>\n",
       "      <td>3</td>\n",
       "      <td>2</td>\n",
       "      <td>8459.75</td>\n",
       "      <td>5</td>\n",
       "      <td>21</td>\n",
       "      <td>0</td>\n",
       "      <td>0</td>\n",
       "      <td>22</td>\n",
       "    </tr>\n",
       "    <tr>\n",
       "      <th>30074</th>\n",
       "      <td>1</td>\n",
       "      <td>22</td>\n",
       "      <td>10</td>\n",
       "      <td>2</td>\n",
       "      <td>2</td>\n",
       "      <td>2</td>\n",
       "      <td>19</td>\n",
       "      <td>13405.23</td>\n",
       "      <td>0</td>\n",
       "      <td>5</td>\n",
       "      <td>71766.34</td>\n",
       "      <td>16</td>\n",
       "      <td>2</td>\n",
       "      <td>3</td>\n",
       "      <td>0</td>\n",
       "      <td>41</td>\n",
       "    </tr>\n",
       "  </tbody>\n",
       "</table>\n",
       "</div>"
      ],
      "text/plain": [
       "        Gender  Age  State  City  Bank_Branch  Account_Type  Transaction_Time  \\\n",
       "119737       0   70     19    23           23             1                21   \n",
       "72272        0   27     12   120          120             0                17   \n",
       "158154       0   35     24   110          110             0                 0   \n",
       "65426        1   56      5    21           21             2                18   \n",
       "30074        1   22     10     2            2             2                19   \n",
       "\n",
       "        Transaction_Amount  Transaction_Type  Merchant_Category  \\\n",
       "119737            73990.02                 0                  3   \n",
       "72272             34258.19                 1                  0   \n",
       "158154            35041.78                 4                  5   \n",
       "65426              4070.99                 3                  2   \n",
       "30074             13405.23                 0                  5   \n",
       "\n",
       "        Account_Balance  Transaction_Device  Transaction_Location  \\\n",
       "119737         26998.49                  10                    25   \n",
       "72272          16474.66                  18                   122   \n",
       "158154         79427.51                   1                   112   \n",
       "65426           8459.75                   5                    21   \n",
       "30074          71766.34                  16                     2   \n",
       "\n",
       "        Device_Type  Is_Fraud  Transaction_Description  \n",
       "119737            2         0                      146  \n",
       "72272             3         0                       31  \n",
       "158154            1         0                       81  \n",
       "65426             0         0                       22  \n",
       "30074             3         0                       41  "
      ]
     },
     "execution_count": 18,
     "metadata": {},
     "output_type": "execute_result"
    }
   ],
   "source": [
    "sample_df.head()"
   ]
  },
  {
   "cell_type": "markdown",
   "id": "c18fbc6f-17de-412a-a4c9-a5ee5dbe890b",
   "metadata": {},
   "source": [
    "since cluster is sensitive to scale we will do scaling"
   ]
  },
  {
   "cell_type": "code",
   "execution_count": 19,
   "id": "b3587bb3-962f-4a3d-a90d-16840a9a9e46",
   "metadata": {
    "tags": []
   },
   "outputs": [
    {
     "name": "stderr",
     "output_type": "stream",
     "text": [
      "/home/jupyterlab/conda/envs/python/lib/python3.7/site-packages/sklearn/preprocessing/data.py:625: DataConversionWarning: Data with input dtype int64, float64 were all converted to float64 by StandardScaler.\n",
      "  return self.partial_fit(X, y)\n",
      "/home/jupyterlab/conda/envs/python/lib/python3.7/site-packages/sklearn/base.py:462: DataConversionWarning: Data with input dtype int64, float64 were all converted to float64 by StandardScaler.\n",
      "  return self.fit(X, **fit_params).transform(X)\n"
     ]
    },
    {
     "data": {
      "text/plain": [
       "(20000, 16)"
      ]
     },
     "execution_count": 19,
     "metadata": {},
     "output_type": "execute_result"
    }
   ],
   "source": [
    "ss=StandardScaler()\n",
    "sample_ss=ss.fit_transform(sample_df)\n",
    "sample_ss.shape"
   ]
  },
  {
   "cell_type": "code",
   "execution_count": 20,
   "id": "bb8a8c19-83e9-4bc0-839d-c82dc6174877",
   "metadata": {
    "tags": []
   },
   "outputs": [],
   "source": [
    "sample_df=pd.DataFrame(sample_ss,columns=sample.columns)"
   ]
  },
  {
   "cell_type": "code",
   "execution_count": 21,
   "id": "b133944c-8eb4-4329-a7c7-4175cd8db49f",
   "metadata": {
    "tags": []
   },
   "outputs": [
    {
     "data": {
      "text/plain": [
       "(20000, 16)"
      ]
     },
     "execution_count": 21,
     "metadata": {},
     "output_type": "execute_result"
    }
   ],
   "source": [
    "sample_df.shape"
   ]
  },
  {
   "cell_type": "markdown",
   "id": "37f7e6bd-4999-48b5-bc3b-1d45a200b36f",
   "metadata": {
    "tags": []
   },
   "source": [
    "do pca to reduce the dimension"
   ]
  },
  {
   "cell_type": "code",
   "execution_count": 22,
   "id": "556bb834-cee1-402e-82af-dd75834e32af",
   "metadata": {
    "tags": []
   },
   "outputs": [
    {
     "data": {
      "text/plain": [
       "(20000, 3)"
      ]
     },
     "execution_count": 22,
     "metadata": {},
     "output_type": "execute_result"
    }
   ],
   "source": [
    "pca=PCA(n_components=3)\n",
    "sample_df=pca.fit_transform(sample_df)\n",
    "sample_df.shape"
   ]
  },
  {
   "cell_type": "markdown",
   "id": "034d9c0c-1386-4eeb-9e2a-2062654cea29",
   "metadata": {
    "tags": []
   },
   "source": [
    "fit the model and see the result"
   ]
  },
  {
   "cell_type": "code",
   "execution_count": 23,
   "id": "02cbd636-a4e2-479a-a3a9-5ae21633a389",
   "metadata": {
    "tags": []
   },
   "outputs": [
    {
     "name": "stdout",
     "output_type": "stream",
     "text": [
      "   k        Inertia\n",
      "0  1  105202.750525\n",
      "1  2   60429.531939\n",
      "2  3   51580.525349\n",
      "3  4   43708.165955\n",
      "4  5   37901.365502\n",
      "5  6   33397.944230\n",
      "6  7   30359.208992\n",
      "7  8   27599.048214\n",
      "8  9   25387.951569\n"
     ]
    }
   ],
   "source": [
    "k = [x for x in np.arange(1, 10)] \n",
    "inertia = []\n",
    "\n",
    "for k_value in k:\n",
    "    km = KMeans(n_clusters=k_value,n_init=1)\n",
    "    km.fit(sample_df) \n",
    "    inertia.append((k_value, km.inertia_)) \n",
    "\n",
    "\n",
    "inertia_df = pd.DataFrame(inertia, columns=['k', 'Inertia'])\n",
    "print(inertia_df)"
   ]
  },
  {
   "cell_type": "markdown",
   "id": "0680bb88-f6d6-4360-a3c9-0428774aab83",
   "metadata": {},
   "source": [
    "using elbow method"
   ]
  },
  {
   "cell_type": "code",
   "execution_count": 24,
   "id": "abfddbf5-1aa2-45ac-a923-98c9b391c9ed",
   "metadata": {
    "tags": []
   },
   "outputs": [
    {
     "data": {
      "image/png": "[encoded data removed]",
      "text/plain": [
       "<Figure size 640x480 with 1 Axes>"
      ]
     },
     "metadata": {},
     "output_type": "display_data"
    }
   ],
   "source": [
    "plt.plot(inertia_df['k'], inertia_df['Inertia'], marker='o')\n",
    "plt.title('Elbow Method For Optimal k')\n",
    "plt.xlabel('Number of Clusters (k)')\n",
    "plt.ylabel('Inertia')\n",
    "plt.show()"
   ]
  },
  {
   "cell_type": "markdown",
   "id": "a7fcc1f3-1cc0-41c4-a6c7-872ce1214478",
   "metadata": {},
   "source": [
    "I will choose k=2"
   ]
  },
  {
   "cell_type": "code",
   "execution_count": 25,
   "id": "c514d21c-93c1-402b-afed-50e601509037",
   "metadata": {
    "tags": []
   },
   "outputs": [
    {
     "data": {
      "text/plain": [
       "KMeans(algorithm='auto', copy_x=True, init='k-means++', max_iter=300,\n",
       "    n_clusters=2, n_init=10, n_jobs=None, precompute_distances='auto',\n",
       "    random_state=42, tol=0.0001, verbose=0)"
      ]
     },
     "execution_count": 25,
     "metadata": {},
     "output_type": "execute_result"
    }
   ],
   "source": [
    "kmeans=KMeans(n_clusters=2,random_state=42)\n",
    "kmeans.fit(sample_df)"
   ]
  },
  {
   "cell_type": "code",
   "execution_count": 26,
   "id": "72a9e199-151d-4475-a3d4-94a4562036d1",
   "metadata": {
    "tags": []
   },
   "outputs": [],
   "source": [
    "label = pd.DataFrame(kmeans.labels_, columns=['k_label'])"
   ]
  },
  {
   "cell_type": "code",
   "execution_count": 27,
   "id": "fc040676-5d1e-4748-a138-7d27b3c872d0",
   "metadata": {
    "tags": []
   },
   "outputs": [],
   "source": [
    "sample= pd.concat([sample, label], axis=1)"
   ]
  },
  {
   "cell_type": "code",
   "execution_count": 28,
   "id": "d5a2a6ad-cb17-4ee9-879e-485e7ce3568d",
   "metadata": {
    "tags": []
   },
   "outputs": [
    {
     "data": {
      "text/html": [
       "<div>\n",
       "<style scoped>\n",
       "    .dataframe tbody tr th:only-of-type {\n",
       "        vertical-align: middle;\n",
       "    }\n",
       "\n",
       "    .dataframe tbody tr th {\n",
       "        vertical-align: top;\n",
       "    }\n",
       "\n",
       "    .dataframe thead th {\n",
       "        text-align: right;\n",
       "    }\n",
       "</style>\n",
       "<table border=\"1\" class=\"dataframe\">\n",
       "  <thead>\n",
       "    <tr style=\"text-align: right;\">\n",
       "      <th></th>\n",
       "      <th>Gender</th>\n",
       "      <th>Age</th>\n",
       "      <th>State</th>\n",
       "      <th>City</th>\n",
       "      <th>Bank_Branch</th>\n",
       "      <th>Account_Type</th>\n",
       "      <th>Transaction_Time</th>\n",
       "      <th>Transaction_Amount</th>\n",
       "      <th>Transaction_Type</th>\n",
       "      <th>Merchant_Category</th>\n",
       "      <th>Account_Balance</th>\n",
       "      <th>Transaction_Device</th>\n",
       "      <th>Transaction_Location</th>\n",
       "      <th>Device_Type</th>\n",
       "      <th>Is_Fraud</th>\n",
       "      <th>Transaction_Description</th>\n",
       "      <th>k_label</th>\n",
       "    </tr>\n",
       "  </thead>\n",
       "  <tbody>\n",
       "    <tr>\n",
       "      <th>0</th>\n",
       "      <td>Female</td>\n",
       "      <td>70</td>\n",
       "      <td>Manipur</td>\n",
       "      <td>Churachandpur</td>\n",
       "      <td>Churachandpur Branch</td>\n",
       "      <td>Checking</td>\n",
       "      <td>21</td>\n",
       "      <td>73990.02</td>\n",
       "      <td>Bill Payment</td>\n",
       "      <td>Groceries</td>\n",
       "      <td>26998.49</td>\n",
       "      <td>POS Terminal</td>\n",
       "      <td>Churachandpur, Manipur</td>\n",
       "      <td>Mobile</td>\n",
       "      <td>0</td>\n",
       "      <td>Subscription fee</td>\n",
       "      <td>1</td>\n",
       "    </tr>\n",
       "    <tr>\n",
       "      <th>1</th>\n",
       "      <td>Female</td>\n",
       "      <td>27</td>\n",
       "      <td>Himachal Pradesh</td>\n",
       "      <td>Shimla</td>\n",
       "      <td>Shimla Branch</td>\n",
       "      <td>Business</td>\n",
       "      <td>17</td>\n",
       "      <td>34258.19</td>\n",
       "      <td>Credit</td>\n",
       "      <td>Clothing</td>\n",
       "      <td>16474.66</td>\n",
       "      <td>Wearable Device</td>\n",
       "      <td>Shimla, Himachal Pradesh</td>\n",
       "      <td>POS</td>\n",
       "      <td>0</td>\n",
       "      <td>Corporate event ticket</td>\n",
       "      <td>0</td>\n",
       "    </tr>\n",
       "    <tr>\n",
       "      <th>2</th>\n",
       "      <td>Female</td>\n",
       "      <td>35</td>\n",
       "      <td>Puducherry</td>\n",
       "      <td>Puducherry</td>\n",
       "      <td>Puducherry Branch</td>\n",
       "      <td>Business</td>\n",
       "      <td>0</td>\n",
       "      <td>35041.78</td>\n",
       "      <td>Withdrawal</td>\n",
       "      <td>Restaurant</td>\n",
       "      <td>79427.51</td>\n",
       "      <td>ATM Booth Kiosk</td>\n",
       "      <td>Puducherry, Puducherry</td>\n",
       "      <td>Desktop</td>\n",
       "      <td>0</td>\n",
       "      <td>Insurance claim</td>\n",
       "      <td>0</td>\n",
       "    </tr>\n",
       "    <tr>\n",
       "      <th>3</th>\n",
       "      <td>Male</td>\n",
       "      <td>56</td>\n",
       "      <td>Chandigarh</td>\n",
       "      <td>Chandigarh</td>\n",
       "      <td>Chandigarh Branch</td>\n",
       "      <td>Savings</td>\n",
       "      <td>18</td>\n",
       "      <td>4070.99</td>\n",
       "      <td>Transfer</td>\n",
       "      <td>Entertainment</td>\n",
       "      <td>8459.75</td>\n",
       "      <td>Debit/Credit Card</td>\n",
       "      <td>Chandigarh, Chandigarh</td>\n",
       "      <td>ATM</td>\n",
       "      <td>0</td>\n",
       "      <td>Childcare expense</td>\n",
       "      <td>1</td>\n",
       "    </tr>\n",
       "    <tr>\n",
       "      <th>4</th>\n",
       "      <td>Male</td>\n",
       "      <td>22</td>\n",
       "      <td>Gujarat</td>\n",
       "      <td>Ahmedabad</td>\n",
       "      <td>Ahmedabad Branch</td>\n",
       "      <td>Savings</td>\n",
       "      <td>19</td>\n",
       "      <td>13405.23</td>\n",
       "      <td>Bill Payment</td>\n",
       "      <td>Restaurant</td>\n",
       "      <td>71766.34</td>\n",
       "      <td>Virtual Card</td>\n",
       "      <td>Ahmedabad, Gujarat</td>\n",
       "      <td>POS</td>\n",
       "      <td>0</td>\n",
       "      <td>Doctor consultation</td>\n",
       "      <td>1</td>\n",
       "    </tr>\n",
       "    <tr>\n",
       "      <th>...</th>\n",
       "      <td>...</td>\n",
       "      <td>...</td>\n",
       "      <td>...</td>\n",
       "      <td>...</td>\n",
       "      <td>...</td>\n",
       "      <td>...</td>\n",
       "      <td>...</td>\n",
       "      <td>...</td>\n",
       "      <td>...</td>\n",
       "      <td>...</td>\n",
       "      <td>...</td>\n",
       "      <td>...</td>\n",
       "      <td>...</td>\n",
       "      <td>...</td>\n",
       "      <td>...</td>\n",
       "      <td>...</td>\n",
       "      <td>...</td>\n",
       "    </tr>\n",
       "    <tr>\n",
       "      <th>19995</th>\n",
       "      <td>Female</td>\n",
       "      <td>69</td>\n",
       "      <td>Andaman and Nicobar Islands</td>\n",
       "      <td>Car Nicobar</td>\n",
       "      <td>Car Nicobar Branch</td>\n",
       "      <td>Checking</td>\n",
       "      <td>13</td>\n",
       "      <td>31056.71</td>\n",
       "      <td>Bill Payment</td>\n",
       "      <td>Health</td>\n",
       "      <td>5296.41</td>\n",
       "      <td>Tablet</td>\n",
       "      <td>Car Nicobar, Andaman and Nicobar Islands</td>\n",
       "      <td>POS</td>\n",
       "      <td>0</td>\n",
       "      <td>E-commerce refund</td>\n",
       "      <td>1</td>\n",
       "    </tr>\n",
       "    <tr>\n",
       "      <th>19996</th>\n",
       "      <td>Female</td>\n",
       "      <td>42</td>\n",
       "      <td>Andaman and Nicobar Islands</td>\n",
       "      <td>Port Blair</td>\n",
       "      <td>Port Blair Branch</td>\n",
       "      <td>Business</td>\n",
       "      <td>8</td>\n",
       "      <td>14942.40</td>\n",
       "      <td>Debit</td>\n",
       "      <td>Electronics</td>\n",
       "      <td>52448.73</td>\n",
       "      <td>Web Browser</td>\n",
       "      <td>Port Blair, Andaman and Nicobar Islands</td>\n",
       "      <td>Mobile</td>\n",
       "      <td>0</td>\n",
       "      <td>Grocery shopping</td>\n",
       "      <td>0</td>\n",
       "    </tr>\n",
       "    <tr>\n",
       "      <th>19997</th>\n",
       "      <td>Female</td>\n",
       "      <td>28</td>\n",
       "      <td>Uttarakhand</td>\n",
       "      <td>Rishikesh</td>\n",
       "      <td>Rishikesh Branch</td>\n",
       "      <td>Checking</td>\n",
       "      <td>19</td>\n",
       "      <td>87493.47</td>\n",
       "      <td>Bill Payment</td>\n",
       "      <td>Clothing</td>\n",
       "      <td>5036.40</td>\n",
       "      <td>POS Mobile App</td>\n",
       "      <td>Rishikesh, Uttarakhand</td>\n",
       "      <td>ATM</td>\n",
       "      <td>0</td>\n",
       "      <td>Hospital bill</td>\n",
       "      <td>0</td>\n",
       "    </tr>\n",
       "    <tr>\n",
       "      <th>19998</th>\n",
       "      <td>Female</td>\n",
       "      <td>25</td>\n",
       "      <td>Chhattisgarh</td>\n",
       "      <td>Bilaspur</td>\n",
       "      <td>Bilaspur Branch</td>\n",
       "      <td>Savings</td>\n",
       "      <td>17</td>\n",
       "      <td>19137.06</td>\n",
       "      <td>Withdrawal</td>\n",
       "      <td>Restaurant</td>\n",
       "      <td>86131.48</td>\n",
       "      <td>ATM</td>\n",
       "      <td>Bilaspur, Chhattisgarh</td>\n",
       "      <td>Mobile</td>\n",
       "      <td>0</td>\n",
       "      <td>Gifts for family</td>\n",
       "      <td>1</td>\n",
       "    </tr>\n",
       "    <tr>\n",
       "      <th>19999</th>\n",
       "      <td>Female</td>\n",
       "      <td>62</td>\n",
       "      <td>Assam</td>\n",
       "      <td>Nagaon</td>\n",
       "      <td>Nagaon Branch</td>\n",
       "      <td>Savings</td>\n",
       "      <td>8</td>\n",
       "      <td>49421.08</td>\n",
       "      <td>Transfer</td>\n",
       "      <td>Clothing</td>\n",
       "      <td>28745.00</td>\n",
       "      <td>Desktop/Laptop</td>\n",
       "      <td>Nagaon, Assam</td>\n",
       "      <td>ATM</td>\n",
       "      <td>0</td>\n",
       "      <td>Movie tickets</td>\n",
       "      <td>0</td>\n",
       "    </tr>\n",
       "  </tbody>\n",
       "</table>\n",
       "<p>20000 rows × 17 columns</p>\n",
       "</div>"
      ],
      "text/plain": [
       "       Gender  Age                        State           City  \\\n",
       "0      Female   70                      Manipur  Churachandpur   \n",
       "1      Female   27             Himachal Pradesh         Shimla   \n",
       "2      Female   35                   Puducherry     Puducherry   \n",
       "3        Male   56                   Chandigarh     Chandigarh   \n",
       "4        Male   22                      Gujarat      Ahmedabad   \n",
       "...       ...  ...                          ...            ...   \n",
       "19995  Female   69  Andaman and Nicobar Islands    Car Nicobar   \n",
       "19996  Female   42  Andaman and Nicobar Islands     Port Blair   \n",
       "19997  Female   28                  Uttarakhand      Rishikesh   \n",
       "19998  Female   25                 Chhattisgarh       Bilaspur   \n",
       "19999  Female   62                        Assam         Nagaon   \n",
       "\n",
       "                Bank_Branch Account_Type  Transaction_Time  \\\n",
       "0      Churachandpur Branch     Checking                21   \n",
       "1             Shimla Branch     Business                17   \n",
       "2         Puducherry Branch     Business                 0   \n",
       "3         Chandigarh Branch      Savings                18   \n",
       "4          Ahmedabad Branch      Savings                19   \n",
       "...                     ...          ...               ...   \n",
       "19995    Car Nicobar Branch     Checking                13   \n",
       "19996     Port Blair Branch     Business                 8   \n",
       "19997      Rishikesh Branch     Checking                19   \n",
       "19998       Bilaspur Branch      Savings                17   \n",
       "19999         Nagaon Branch      Savings                 8   \n",
       "\n",
       "       Transaction_Amount Transaction_Type Merchant_Category  Account_Balance  \\\n",
       "0                73990.02     Bill Payment         Groceries         26998.49   \n",
       "1                34258.19           Credit          Clothing         16474.66   \n",
       "2                35041.78       Withdrawal        Restaurant         79427.51   \n",
       "3                 4070.99         Transfer     Entertainment          8459.75   \n",
       "4                13405.23     Bill Payment        Restaurant         71766.34   \n",
       "...                   ...              ...               ...              ...   \n",
       "19995            31056.71     Bill Payment            Health          5296.41   \n",
       "19996            14942.40            Debit       Electronics         52448.73   \n",
       "19997            87493.47     Bill Payment          Clothing          5036.40   \n",
       "19998            19137.06       Withdrawal        Restaurant         86131.48   \n",
       "19999            49421.08         Transfer          Clothing         28745.00   \n",
       "\n",
       "      Transaction_Device                      Transaction_Location  \\\n",
       "0           POS Terminal                    Churachandpur, Manipur   \n",
       "1        Wearable Device                  Shimla, Himachal Pradesh   \n",
       "2        ATM Booth Kiosk                    Puducherry, Puducherry   \n",
       "3      Debit/Credit Card                    Chandigarh, Chandigarh   \n",
       "4           Virtual Card                        Ahmedabad, Gujarat   \n",
       "...                  ...                                       ...   \n",
       "19995             Tablet  Car Nicobar, Andaman and Nicobar Islands   \n",
       "19996        Web Browser   Port Blair, Andaman and Nicobar Islands   \n",
       "19997     POS Mobile App                    Rishikesh, Uttarakhand   \n",
       "19998                ATM                    Bilaspur, Chhattisgarh   \n",
       "19999     Desktop/Laptop                             Nagaon, Assam   \n",
       "\n",
       "      Device_Type  Is_Fraud Transaction_Description  k_label  \n",
       "0          Mobile         0        Subscription fee        1  \n",
       "1             POS         0  Corporate event ticket        0  \n",
       "2         Desktop         0         Insurance claim        0  \n",
       "3             ATM         0       Childcare expense        1  \n",
       "4             POS         0     Doctor consultation        1  \n",
       "...           ...       ...                     ...      ...  \n",
       "19995         POS         0       E-commerce refund        1  \n",
       "19996      Mobile         0        Grocery shopping        0  \n",
       "19997         ATM         0           Hospital bill        0  \n",
       "19998      Mobile         0        Gifts for family        1  \n",
       "19999         ATM         0           Movie tickets        0  \n",
       "\n",
       "[20000 rows x 17 columns]"
      ]
     },
     "execution_count": 28,
     "metadata": {},
     "output_type": "execute_result"
    }
   ],
   "source": [
    "sample"
   ]
  },
  {
   "cell_type": "code",
   "execution_count": 29,
   "id": "57258243-38c1-4d18-8fb9-887f368bead7",
   "metadata": {
    "tags": []
   },
   "outputs": [
    {
     "data": {
      "text/plain": [
       "<AxesSubplot:>"
      ]
     },
     "execution_count": 29,
     "metadata": {},
     "output_type": "execute_result"
    },
    {
     "data": {
      "image/png": "[encoded data removed]",
      "text/plain": [
       "<Figure size 640x480 with 2 Axes>"
      ]
     },
     "metadata": {},
     "output_type": "display_data"
    }
   ],
   "source": [
    "confusion=confusion_matrix(sample['Is_Fraud'], sample['k_label'])\n",
    "sns.heatmap(confusion,annot=True,fmt='.2f')"
   ]
  },
  {
   "cell_type": "markdown",
   "id": "d6a37a34-76f6-48d0-aeed-de78a7dca3bb",
   "metadata": {},
   "source": [
    "using this kmeans with k=2 we see the result might not be reasonable"
   ]
  },
  {
   "cell_type": "markdown",
   "id": "643aa55c-8930-402d-ac99-f871f73581ac",
   "metadata": {
    "tags": []
   },
   "source": [
    "most of the fraud and nonfraud are assign to the same group 1"
   ]
  },
  {
   "cell_type": "markdown",
   "id": "561b98ed-cd7a-4494-9918-52f2cadd98bf",
   "metadata": {},
   "source": [
    "might also because I use labelencoder instead of onehotencoder, might also because unbalanced data"
   ]
  },
  {
   "cell_type": "markdown",
   "id": "f6c03781-a681-45fc-ae8e-005f269bda45",
   "metadata": {},
   "source": [
    "let's see what property is related to fraud in the cluster result"
   ]
  },
  {
   "cell_type": "code",
   "execution_count": 30,
   "id": "fe51f995-dc69-48fe-8a41-56925f7c2c1c",
   "metadata": {
    "tags": []
   },
   "outputs": [
    {
     "data": {
      "text/plain": [
       "<AxesSubplot:>"
      ]
     },
     "execution_count": 30,
     "metadata": {},
     "output_type": "execute_result"
    },
    {
     "data": {
      "image/png": "[encoded data removed]",
      "text/plain": [
       "<Figure size 640x480 with 1 Axes>"
      ]
     },
     "metadata": {},
     "output_type": "display_data"
    }
   ],
   "source": [
    "sample[sample['k_label']==1]['Age'].hist(edgecolor='black')"
   ]
  },
  {
   "cell_type": "code",
   "execution_count": 33,
   "id": "e2f3d414-aeb5-4132-b8ed-c8166eb5c47a",
   "metadata": {
    "tags": []
   },
   "outputs": [
    {
     "data": {
      "text/plain": [
       "<AxesSubplot:>"
      ]
     },
     "execution_count": 33,
     "metadata": {},
     "output_type": "execute_result"
    },
    {
     "data": {
      "image/png": "[encoded data removed]",
      "text/plain": [
       "<Figure size 640x480 with 1 Axes>"
      ]
     },
     "metadata": {},
     "output_type": "display_data"
    }
   ],
   "source": [
    "sample[sample['k_label']==1]['Transaction_Time'].hist(bins=8,edgecolor='black')"
   ]
  },
  {
   "cell_type": "code",
   "execution_count": 34,
   "id": "403e3513-c59c-4ca2-9241-865e770f9bb1",
   "metadata": {
    "tags": []
   },
   "outputs": [
    {
     "data": {
      "text/html": [
       "<div>\n",
       "<style scoped>\n",
       "    .dataframe tbody tr th:only-of-type {\n",
       "        vertical-align: middle;\n",
       "    }\n",
       "\n",
       "    .dataframe tbody tr th {\n",
       "        vertical-align: top;\n",
       "    }\n",
       "\n",
       "    .dataframe thead th {\n",
       "        text-align: right;\n",
       "    }\n",
       "</style>\n",
       "<table border=\"1\" class=\"dataframe\">\n",
       "  <thead>\n",
       "    <tr style=\"text-align: right;\">\n",
       "      <th></th>\n",
       "      <th>Age</th>\n",
       "      <th>Transaction_Time</th>\n",
       "      <th>Transaction_Amount</th>\n",
       "      <th>Account_Balance</th>\n",
       "      <th>Is_Fraud</th>\n",
       "      <th>k_label</th>\n",
       "    </tr>\n",
       "  </thead>\n",
       "  <tbody>\n",
       "    <tr>\n",
       "      <th>count</th>\n",
       "      <td>10542.000000</td>\n",
       "      <td>10542.000000</td>\n",
       "      <td>10542.000000</td>\n",
       "      <td>10542.000000</td>\n",
       "      <td>10542.000000</td>\n",
       "      <td>10542.0</td>\n",
       "    </tr>\n",
       "    <tr>\n",
       "      <th>mean</th>\n",
       "      <td>44.192943</td>\n",
       "      <td>11.461108</td>\n",
       "      <td>49270.117431</td>\n",
       "      <td>52044.100500</td>\n",
       "      <td>0.051793</td>\n",
       "      <td>1.0</td>\n",
       "    </tr>\n",
       "    <tr>\n",
       "      <th>std</th>\n",
       "      <td>15.279968</td>\n",
       "      <td>6.944530</td>\n",
       "      <td>28442.645667</td>\n",
       "      <td>27345.532454</td>\n",
       "      <td>0.221619</td>\n",
       "      <td>0.0</td>\n",
       "    </tr>\n",
       "    <tr>\n",
       "      <th>min</th>\n",
       "      <td>18.000000</td>\n",
       "      <td>0.000000</td>\n",
       "      <td>34.230000</td>\n",
       "      <td>5026.350000</td>\n",
       "      <td>0.000000</td>\n",
       "      <td>1.0</td>\n",
       "    </tr>\n",
       "    <tr>\n",
       "      <th>25%</th>\n",
       "      <td>31.000000</td>\n",
       "      <td>5.000000</td>\n",
       "      <td>24558.075000</td>\n",
       "      <td>28662.255000</td>\n",
       "      <td>0.000000</td>\n",
       "      <td>1.0</td>\n",
       "    </tr>\n",
       "    <tr>\n",
       "      <th>50%</th>\n",
       "      <td>44.000000</td>\n",
       "      <td>11.000000</td>\n",
       "      <td>49418.025000</td>\n",
       "      <td>51600.275000</td>\n",
       "      <td>0.000000</td>\n",
       "      <td>1.0</td>\n",
       "    </tr>\n",
       "    <tr>\n",
       "      <th>75%</th>\n",
       "      <td>58.000000</td>\n",
       "      <td>18.000000</td>\n",
       "      <td>73494.320000</td>\n",
       "      <td>75682.785000</td>\n",
       "      <td>0.000000</td>\n",
       "      <td>1.0</td>\n",
       "    </tr>\n",
       "    <tr>\n",
       "      <th>max</th>\n",
       "      <td>70.000000</td>\n",
       "      <td>23.000000</td>\n",
       "      <td>98999.450000</td>\n",
       "      <td>99968.840000</td>\n",
       "      <td>1.000000</td>\n",
       "      <td>1.0</td>\n",
       "    </tr>\n",
       "  </tbody>\n",
       "</table>\n",
       "</div>"
      ],
      "text/plain": [
       "                Age  Transaction_Time  Transaction_Amount  Account_Balance  \\\n",
       "count  10542.000000      10542.000000        10542.000000     10542.000000   \n",
       "mean      44.192943         11.461108        49270.117431     52044.100500   \n",
       "std       15.279968          6.944530        28442.645667     27345.532454   \n",
       "min       18.000000          0.000000           34.230000      5026.350000   \n",
       "25%       31.000000          5.000000        24558.075000     28662.255000   \n",
       "50%       44.000000         11.000000        49418.025000     51600.275000   \n",
       "75%       58.000000         18.000000        73494.320000     75682.785000   \n",
       "max       70.000000         23.000000        98999.450000     99968.840000   \n",
       "\n",
       "           Is_Fraud  k_label  \n",
       "count  10542.000000  10542.0  \n",
       "mean       0.051793      1.0  \n",
       "std        0.221619      0.0  \n",
       "min        0.000000      1.0  \n",
       "25%        0.000000      1.0  \n",
       "50%        0.000000      1.0  \n",
       "75%        0.000000      1.0  \n",
       "max        1.000000      1.0  "
      ]
     },
     "execution_count": 34,
     "metadata": {},
     "output_type": "execute_result"
    }
   ],
   "source": [
    "sample[sample['k_label']==1].describe()"
   ]
  },
  {
   "cell_type": "markdown",
   "id": "fee89f4e-b085-4e91-84c5-9a8383bee848",
   "metadata": {},
   "source": [
    "# silhouette score\n"
   ]
  },
  {
   "cell_type": "markdown",
   "id": "fc773831-003d-46b2-9b9a-13e8ea2a8ad3",
   "metadata": {},
   "source": [
    "between -1 and 1, the larger the better"
   ]
  },
  {
   "cell_type": "code",
   "execution_count": 35,
   "id": "2ae75f58-982b-49e5-a491-b4ec24683b97",
   "metadata": {
    "tags": []
   },
   "outputs": [
    {
     "name": "stdout",
     "output_type": "stream",
     "text": [
      "k=2, silhouette score=0.3625\n",
      "k=3, silhouette score=0.2842\n",
      "k=4, silhouette score=0.2450\n",
      "k=5, silhouette score=0.2411\n",
      "k=6, silhouette score=0.2511\n",
      "best k: 2\n"
     ]
    }
   ],
   "source": [
    "X = sample_df\n",
    "k_values = np.arange(2, 7)\n",
    "silhouette_scores = []\n",
    "\n",
    "\n",
    "for k in k_values:\n",
    "    kmeans = KMeans(\n",
    "        n_clusters=k, \n",
    "        init=\"k-means++\", \n",
    "        random_state=42, \n",
    "        n_init=10\n",
    "    )\n",
    "    kmeans.fit(X)\n",
    "    labels=kmeans.predict(X)\n",
    "    score = silhouette_score(X, labels)\n",
    "    silhouette_scores.append(score)\n",
    "    print(f'k={k}, silhouette score={score:.4f}')\n",
    "\n",
    "best_k = k_values[np.argmax(silhouette_scores)]\n",
    "print(f'best k: {best_k}')"
   ]
  },
  {
   "cell_type": "markdown",
   "id": "ceb7ee6b-ffb7-430e-a5d4-c8c1c306efa8",
   "metadata": {},
   "source": [
    "with silhouette score we also see the best k is 2"
   ]
  },
  {
   "cell_type": "code",
   "execution_count": 46,
   "id": "4e4e9d79-8619-4b58-9952-b5c4a95e40c7",
   "metadata": {
    "tags": []
   },
   "outputs": [
    {
     "data": {
      "text/html": [
       "<div>\n",
       "<style scoped>\n",
       "    .dataframe tbody tr th:only-of-type {\n",
       "        vertical-align: middle;\n",
       "    }\n",
       "\n",
       "    .dataframe tbody tr th {\n",
       "        vertical-align: top;\n",
       "    }\n",
       "\n",
       "    .dataframe thead th {\n",
       "        text-align: right;\n",
       "    }\n",
       "</style>\n",
       "<table border=\"1\" class=\"dataframe\">\n",
       "  <thead>\n",
       "    <tr style=\"text-align: right;\">\n",
       "      <th></th>\n",
       "      <th>Gender</th>\n",
       "      <th>Age</th>\n",
       "      <th>State</th>\n",
       "      <th>City</th>\n",
       "      <th>Bank_Branch</th>\n",
       "      <th>Account_Type</th>\n",
       "      <th>Transaction_Time</th>\n",
       "      <th>Transaction_Amount</th>\n",
       "      <th>Transaction_Type</th>\n",
       "      <th>Merchant_Category</th>\n",
       "      <th>Account_Balance</th>\n",
       "      <th>Transaction_Device</th>\n",
       "      <th>Transaction_Location</th>\n",
       "      <th>Device_Type</th>\n",
       "      <th>Is_Fraud</th>\n",
       "      <th>Transaction_Description</th>\n",
       "      <th>k_label</th>\n",
       "      <th>k_label_score</th>\n",
       "    </tr>\n",
       "  </thead>\n",
       "  <tbody>\n",
       "    <tr>\n",
       "      <th>0</th>\n",
       "      <td>Female</td>\n",
       "      <td>70</td>\n",
       "      <td>Manipur</td>\n",
       "      <td>Churachandpur</td>\n",
       "      <td>Churachandpur Branch</td>\n",
       "      <td>Checking</td>\n",
       "      <td>21</td>\n",
       "      <td>73990.02</td>\n",
       "      <td>Bill Payment</td>\n",
       "      <td>Groceries</td>\n",
       "      <td>26998.49</td>\n",
       "      <td>POS Terminal</td>\n",
       "      <td>Churachandpur, Manipur</td>\n",
       "      <td>Mobile</td>\n",
       "      <td>0</td>\n",
       "      <td>Subscription fee</td>\n",
       "      <td>1</td>\n",
       "      <td>1</td>\n",
       "    </tr>\n",
       "    <tr>\n",
       "      <th>1</th>\n",
       "      <td>Female</td>\n",
       "      <td>27</td>\n",
       "      <td>Himachal Pradesh</td>\n",
       "      <td>Shimla</td>\n",
       "      <td>Shimla Branch</td>\n",
       "      <td>Business</td>\n",
       "      <td>17</td>\n",
       "      <td>34258.19</td>\n",
       "      <td>Credit</td>\n",
       "      <td>Clothing</td>\n",
       "      <td>16474.66</td>\n",
       "      <td>Wearable Device</td>\n",
       "      <td>Shimla, Himachal Pradesh</td>\n",
       "      <td>POS</td>\n",
       "      <td>0</td>\n",
       "      <td>Corporate event ticket</td>\n",
       "      <td>0</td>\n",
       "      <td>0</td>\n",
       "    </tr>\n",
       "    <tr>\n",
       "      <th>2</th>\n",
       "      <td>Female</td>\n",
       "      <td>35</td>\n",
       "      <td>Puducherry</td>\n",
       "      <td>Puducherry</td>\n",
       "      <td>Puducherry Branch</td>\n",
       "      <td>Business</td>\n",
       "      <td>0</td>\n",
       "      <td>35041.78</td>\n",
       "      <td>Withdrawal</td>\n",
       "      <td>Restaurant</td>\n",
       "      <td>79427.51</td>\n",
       "      <td>ATM Booth Kiosk</td>\n",
       "      <td>Puducherry, Puducherry</td>\n",
       "      <td>Desktop</td>\n",
       "      <td>0</td>\n",
       "      <td>Insurance claim</td>\n",
       "      <td>0</td>\n",
       "      <td>0</td>\n",
       "    </tr>\n",
       "    <tr>\n",
       "      <th>3</th>\n",
       "      <td>Male</td>\n",
       "      <td>56</td>\n",
       "      <td>Chandigarh</td>\n",
       "      <td>Chandigarh</td>\n",
       "      <td>Chandigarh Branch</td>\n",
       "      <td>Savings</td>\n",
       "      <td>18</td>\n",
       "      <td>4070.99</td>\n",
       "      <td>Transfer</td>\n",
       "      <td>Entertainment</td>\n",
       "      <td>8459.75</td>\n",
       "      <td>Debit/Credit Card</td>\n",
       "      <td>Chandigarh, Chandigarh</td>\n",
       "      <td>ATM</td>\n",
       "      <td>0</td>\n",
       "      <td>Childcare expense</td>\n",
       "      <td>1</td>\n",
       "      <td>1</td>\n",
       "    </tr>\n",
       "    <tr>\n",
       "      <th>4</th>\n",
       "      <td>Male</td>\n",
       "      <td>22</td>\n",
       "      <td>Gujarat</td>\n",
       "      <td>Ahmedabad</td>\n",
       "      <td>Ahmedabad Branch</td>\n",
       "      <td>Savings</td>\n",
       "      <td>19</td>\n",
       "      <td>13405.23</td>\n",
       "      <td>Bill Payment</td>\n",
       "      <td>Restaurant</td>\n",
       "      <td>71766.34</td>\n",
       "      <td>Virtual Card</td>\n",
       "      <td>Ahmedabad, Gujarat</td>\n",
       "      <td>POS</td>\n",
       "      <td>0</td>\n",
       "      <td>Doctor consultation</td>\n",
       "      <td>1</td>\n",
       "      <td>1</td>\n",
       "    </tr>\n",
       "    <tr>\n",
       "      <th>...</th>\n",
       "      <td>...</td>\n",
       "      <td>...</td>\n",
       "      <td>...</td>\n",
       "      <td>...</td>\n",
       "      <td>...</td>\n",
       "      <td>...</td>\n",
       "      <td>...</td>\n",
       "      <td>...</td>\n",
       "      <td>...</td>\n",
       "      <td>...</td>\n",
       "      <td>...</td>\n",
       "      <td>...</td>\n",
       "      <td>...</td>\n",
       "      <td>...</td>\n",
       "      <td>...</td>\n",
       "      <td>...</td>\n",
       "      <td>...</td>\n",
       "      <td>...</td>\n",
       "    </tr>\n",
       "    <tr>\n",
       "      <th>19995</th>\n",
       "      <td>Female</td>\n",
       "      <td>69</td>\n",
       "      <td>Andaman and Nicobar Islands</td>\n",
       "      <td>Car Nicobar</td>\n",
       "      <td>Car Nicobar Branch</td>\n",
       "      <td>Checking</td>\n",
       "      <td>13</td>\n",
       "      <td>31056.71</td>\n",
       "      <td>Bill Payment</td>\n",
       "      <td>Health</td>\n",
       "      <td>5296.41</td>\n",
       "      <td>Tablet</td>\n",
       "      <td>Car Nicobar, Andaman and Nicobar Islands</td>\n",
       "      <td>POS</td>\n",
       "      <td>0</td>\n",
       "      <td>E-commerce refund</td>\n",
       "      <td>1</td>\n",
       "      <td>1</td>\n",
       "    </tr>\n",
       "    <tr>\n",
       "      <th>19996</th>\n",
       "      <td>Female</td>\n",
       "      <td>42</td>\n",
       "      <td>Andaman and Nicobar Islands</td>\n",
       "      <td>Port Blair</td>\n",
       "      <td>Port Blair Branch</td>\n",
       "      <td>Business</td>\n",
       "      <td>8</td>\n",
       "      <td>14942.40</td>\n",
       "      <td>Debit</td>\n",
       "      <td>Electronics</td>\n",
       "      <td>52448.73</td>\n",
       "      <td>Web Browser</td>\n",
       "      <td>Port Blair, Andaman and Nicobar Islands</td>\n",
       "      <td>Mobile</td>\n",
       "      <td>0</td>\n",
       "      <td>Grocery shopping</td>\n",
       "      <td>0</td>\n",
       "      <td>0</td>\n",
       "    </tr>\n",
       "    <tr>\n",
       "      <th>19997</th>\n",
       "      <td>Female</td>\n",
       "      <td>28</td>\n",
       "      <td>Uttarakhand</td>\n",
       "      <td>Rishikesh</td>\n",
       "      <td>Rishikesh Branch</td>\n",
       "      <td>Checking</td>\n",
       "      <td>19</td>\n",
       "      <td>87493.47</td>\n",
       "      <td>Bill Payment</td>\n",
       "      <td>Clothing</td>\n",
       "      <td>5036.40</td>\n",
       "      <td>POS Mobile App</td>\n",
       "      <td>Rishikesh, Uttarakhand</td>\n",
       "      <td>ATM</td>\n",
       "      <td>0</td>\n",
       "      <td>Hospital bill</td>\n",
       "      <td>0</td>\n",
       "      <td>0</td>\n",
       "    </tr>\n",
       "    <tr>\n",
       "      <th>19998</th>\n",
       "      <td>Female</td>\n",
       "      <td>25</td>\n",
       "      <td>Chhattisgarh</td>\n",
       "      <td>Bilaspur</td>\n",
       "      <td>Bilaspur Branch</td>\n",
       "      <td>Savings</td>\n",
       "      <td>17</td>\n",
       "      <td>19137.06</td>\n",
       "      <td>Withdrawal</td>\n",
       "      <td>Restaurant</td>\n",
       "      <td>86131.48</td>\n",
       "      <td>ATM</td>\n",
       "      <td>Bilaspur, Chhattisgarh</td>\n",
       "      <td>Mobile</td>\n",
       "      <td>0</td>\n",
       "      <td>Gifts for family</td>\n",
       "      <td>1</td>\n",
       "      <td>1</td>\n",
       "    </tr>\n",
       "    <tr>\n",
       "      <th>19999</th>\n",
       "      <td>Female</td>\n",
       "      <td>62</td>\n",
       "      <td>Assam</td>\n",
       "      <td>Nagaon</td>\n",
       "      <td>Nagaon Branch</td>\n",
       "      <td>Savings</td>\n",
       "      <td>8</td>\n",
       "      <td>49421.08</td>\n",
       "      <td>Transfer</td>\n",
       "      <td>Clothing</td>\n",
       "      <td>28745.00</td>\n",
       "      <td>Desktop/Laptop</td>\n",
       "      <td>Nagaon, Assam</td>\n",
       "      <td>ATM</td>\n",
       "      <td>0</td>\n",
       "      <td>Movie tickets</td>\n",
       "      <td>0</td>\n",
       "      <td>0</td>\n",
       "    </tr>\n",
       "  </tbody>\n",
       "</table>\n",
       "<p>20000 rows × 18 columns</p>\n",
       "</div>"
      ],
      "text/plain": [
       "       Gender  Age                        State           City  \\\n",
       "0      Female   70                      Manipur  Churachandpur   \n",
       "1      Female   27             Himachal Pradesh         Shimla   \n",
       "2      Female   35                   Puducherry     Puducherry   \n",
       "3        Male   56                   Chandigarh     Chandigarh   \n",
       "4        Male   22                      Gujarat      Ahmedabad   \n",
       "...       ...  ...                          ...            ...   \n",
       "19995  Female   69  Andaman and Nicobar Islands    Car Nicobar   \n",
       "19996  Female   42  Andaman and Nicobar Islands     Port Blair   \n",
       "19997  Female   28                  Uttarakhand      Rishikesh   \n",
       "19998  Female   25                 Chhattisgarh       Bilaspur   \n",
       "19999  Female   62                        Assam         Nagaon   \n",
       "\n",
       "                Bank_Branch Account_Type  Transaction_Time  \\\n",
       "0      Churachandpur Branch     Checking                21   \n",
       "1             Shimla Branch     Business                17   \n",
       "2         Puducherry Branch     Business                 0   \n",
       "3         Chandigarh Branch      Savings                18   \n",
       "4          Ahmedabad Branch      Savings                19   \n",
       "...                     ...          ...               ...   \n",
       "19995    Car Nicobar Branch     Checking                13   \n",
       "19996     Port Blair Branch     Business                 8   \n",
       "19997      Rishikesh Branch     Checking                19   \n",
       "19998       Bilaspur Branch      Savings                17   \n",
       "19999         Nagaon Branch      Savings                 8   \n",
       "\n",
       "       Transaction_Amount Transaction_Type Merchant_Category  Account_Balance  \\\n",
       "0                73990.02     Bill Payment         Groceries         26998.49   \n",
       "1                34258.19           Credit          Clothing         16474.66   \n",
       "2                35041.78       Withdrawal        Restaurant         79427.51   \n",
       "3                 4070.99         Transfer     Entertainment          8459.75   \n",
       "4                13405.23     Bill Payment        Restaurant         71766.34   \n",
       "...                   ...              ...               ...              ...   \n",
       "19995            31056.71     Bill Payment            Health          5296.41   \n",
       "19996            14942.40            Debit       Electronics         52448.73   \n",
       "19997            87493.47     Bill Payment          Clothing          5036.40   \n",
       "19998            19137.06       Withdrawal        Restaurant         86131.48   \n",
       "19999            49421.08         Transfer          Clothing         28745.00   \n",
       "\n",
       "      Transaction_Device                      Transaction_Location  \\\n",
       "0           POS Terminal                    Churachandpur, Manipur   \n",
       "1        Wearable Device                  Shimla, Himachal Pradesh   \n",
       "2        ATM Booth Kiosk                    Puducherry, Puducherry   \n",
       "3      Debit/Credit Card                    Chandigarh, Chandigarh   \n",
       "4           Virtual Card                        Ahmedabad, Gujarat   \n",
       "...                  ...                                       ...   \n",
       "19995             Tablet  Car Nicobar, Andaman and Nicobar Islands   \n",
       "19996        Web Browser   Port Blair, Andaman and Nicobar Islands   \n",
       "19997     POS Mobile App                    Rishikesh, Uttarakhand   \n",
       "19998                ATM                    Bilaspur, Chhattisgarh   \n",
       "19999     Desktop/Laptop                             Nagaon, Assam   \n",
       "\n",
       "      Device_Type  Is_Fraud Transaction_Description  k_label  k_label_score  \n",
       "0          Mobile         0        Subscription fee        1              1  \n",
       "1             POS         0  Corporate event ticket        0              0  \n",
       "2         Desktop         0         Insurance claim        0              0  \n",
       "3             ATM         0       Childcare expense        1              1  \n",
       "4             POS         0     Doctor consultation        1              1  \n",
       "...           ...       ...                     ...      ...            ...  \n",
       "19995         POS         0       E-commerce refund        1              1  \n",
       "19996      Mobile         0        Grocery shopping        0              0  \n",
       "19997         ATM         0           Hospital bill        0              0  \n",
       "19998      Mobile         0        Gifts for family        1              1  \n",
       "19999         ATM         0           Movie tickets        0              0  \n",
       "\n",
       "[20000 rows x 18 columns]"
      ]
     },
     "execution_count": 46,
     "metadata": {},
     "output_type": "execute_result"
    }
   ],
   "source": [
    "kmeans = KMeans(\n",
    "        n_clusters=2, \n",
    "        init=\"k-means++\", \n",
    "        random_state=42, \n",
    "        n_init=10\n",
    "    )\n",
    "kmeans.fit(sample_df)\n",
    "labels=kmeans.predict(sample_df)\n",
    "label = pd.DataFrame(kmeans.labels_, columns=['k_label_score'])\n",
    "sample= pd.concat([sample, label], axis=1)\n",
    "sample"
   ]
  },
  {
   "cell_type": "code",
   "execution_count": 47,
   "id": "7f469df9-3be6-4a79-a0d7-1fe882eaabc8",
   "metadata": {
    "tags": []
   },
   "outputs": [
    {
     "data": {
      "text/plain": [
       "<AxesSubplot:>"
      ]
     },
     "execution_count": 47,
     "metadata": {},
     "output_type": "execute_result"
    },
    {
     "data": {
      "image/png": "[encoded data removed]",
      "text/plain": [
       "<Figure size 640x480 with 2 Axes>"
      ]
     },
     "metadata": {},
     "output_type": "display_data"
    }
   ],
   "source": [
    "confusion=confusion_matrix(sample['Is_Fraud'], sample['k_label_score'])\n",
    "sns.heatmap(confusion,annot=True,fmt='.2f')"
   ]
  },
  {
   "cell_type": "markdown",
   "id": "9337bc33-4718-48d2-ab2c-e201de06afbb",
   "metadata": {},
   "source": [
    "with cluster we see that the fraud happens more in cluster 1 , although the cluster might not be so good more non_fraud is also in cluster1. This means the fraud and non_fraud have similar characteristic. We could see through the cluster to understand the characteristic to fraud later, which is the main goal."
   ]
  },
  {
   "cell_type": "markdown",
   "id": "ab0ba9b4-2df2-49c0-924d-b4929011ff8a",
   "metadata": {},
   "source": [
    "next I will use other cluster method to see if I could get better results."
   ]
  },
  {
   "cell_type": "markdown",
   "id": "6aadefb1-2fa8-4a67-b4c3-15775c20e577",
   "metadata": {},
   "source": [
    "## DBSCAN"
   ]
  },
  {
   "cell_type": "markdown",
   "id": "0a924f91-ed32-4444-bd2b-350630a932a9",
   "metadata": {},
   "source": [
    "choose eps"
   ]
  },
  {
   "cell_type": "markdown",
   "id": "33f42026-bfad-4906-bcd6-38557fda4c00",
   "metadata": {
    "tags": []
   },
   "source": [
    "from dbscan we see the cluster classify the data into 1 cluster automatically we can not use this to see the difference between fraud and non_fraud."
   ]
  },
  {
   "cell_type": "code",
   "execution_count": 48,
   "id": "de2f6ed3-a50c-4da1-89f0-6fe5cb4d5c8d",
   "metadata": {
    "tags": []
   },
   "outputs": [
    {
     "data": {
      "image/png": "[encoded data removed]",
      "text/plain": [
       "<Figure size 640x480 with 1 Axes>"
      ]
     },
     "metadata": {},
     "output_type": "display_data"
    }
   ],
   "source": [
    "from sklearn.neighbors import NearestNeighbors\n",
    "import matplotlib.pyplot as plt\n",
    "import numpy as np\n",
    "nbrs = NearestNeighbors(n_neighbors=5).fit(X) \n",
    "distances, indices = nbrs.kneighbors(X)\n",
    "distances = np.sort(distances[:, -1], axis=0) \n",
    "plt.plot(distances)\n",
    "plt.xlabel('Points sorted by distance')\n",
    "plt.ylabel('k-distance')\n",
    "plt.show()"
   ]
  },
  {
   "cell_type": "code",
   "execution_count": 49,
   "id": "349c6526-68cd-4d3f-beeb-2b61d4a1ece1",
   "metadata": {
    "tags": []
   },
   "outputs": [
    {
     "data": {
      "text/plain": [
       "array([-1,  0,  1,  2,  3])"
      ]
     },
     "execution_count": 49,
     "metadata": {},
     "output_type": "execute_result"
    }
   ],
   "source": [
    "dbscan=DBSCAN(eps=0.4,min_samples=4)\n",
    "labels=dbscan.fit_predict(sample_df)\n",
    "np.unique(labels)"
   ]
  },
  {
   "cell_type": "code",
   "execution_count": 50,
   "id": "f553ffe1-b30d-43d3-9354-bdd4f826001c",
   "metadata": {
    "tags": []
   },
   "outputs": [
    {
     "data": {
      "text/html": [
       "<div>\n",
       "<style scoped>\n",
       "    .dataframe tbody tr th:only-of-type {\n",
       "        vertical-align: middle;\n",
       "    }\n",
       "\n",
       "    .dataframe tbody tr th {\n",
       "        vertical-align: top;\n",
       "    }\n",
       "\n",
       "    .dataframe thead th {\n",
       "        text-align: right;\n",
       "    }\n",
       "</style>\n",
       "<table border=\"1\" class=\"dataframe\">\n",
       "  <thead>\n",
       "    <tr style=\"text-align: right;\">\n",
       "      <th></th>\n",
       "      <th>Gender</th>\n",
       "      <th>Age</th>\n",
       "      <th>State</th>\n",
       "      <th>City</th>\n",
       "      <th>Bank_Branch</th>\n",
       "      <th>Account_Type</th>\n",
       "      <th>Transaction_Time</th>\n",
       "      <th>Transaction_Amount</th>\n",
       "      <th>Transaction_Type</th>\n",
       "      <th>Merchant_Category</th>\n",
       "      <th>Account_Balance</th>\n",
       "      <th>Transaction_Device</th>\n",
       "      <th>Transaction_Location</th>\n",
       "      <th>Device_Type</th>\n",
       "      <th>Is_Fraud</th>\n",
       "      <th>Transaction_Description</th>\n",
       "      <th>k_label</th>\n",
       "      <th>k_label_score</th>\n",
       "      <th>dbscan_label</th>\n",
       "    </tr>\n",
       "  </thead>\n",
       "  <tbody>\n",
       "    <tr>\n",
       "      <th>0</th>\n",
       "      <td>Female</td>\n",
       "      <td>70</td>\n",
       "      <td>Manipur</td>\n",
       "      <td>Churachandpur</td>\n",
       "      <td>Churachandpur Branch</td>\n",
       "      <td>Checking</td>\n",
       "      <td>21</td>\n",
       "      <td>73990.02</td>\n",
       "      <td>Bill Payment</td>\n",
       "      <td>Groceries</td>\n",
       "      <td>26998.49</td>\n",
       "      <td>POS Terminal</td>\n",
       "      <td>Churachandpur, Manipur</td>\n",
       "      <td>Mobile</td>\n",
       "      <td>0</td>\n",
       "      <td>Subscription fee</td>\n",
       "      <td>1</td>\n",
       "      <td>1</td>\n",
       "      <td>1</td>\n",
       "    </tr>\n",
       "    <tr>\n",
       "      <th>1</th>\n",
       "      <td>Female</td>\n",
       "      <td>27</td>\n",
       "      <td>Himachal Pradesh</td>\n",
       "      <td>Shimla</td>\n",
       "      <td>Shimla Branch</td>\n",
       "      <td>Business</td>\n",
       "      <td>17</td>\n",
       "      <td>34258.19</td>\n",
       "      <td>Credit</td>\n",
       "      <td>Clothing</td>\n",
       "      <td>16474.66</td>\n",
       "      <td>Wearable Device</td>\n",
       "      <td>Shimla, Himachal Pradesh</td>\n",
       "      <td>POS</td>\n",
       "      <td>0</td>\n",
       "      <td>Corporate event ticket</td>\n",
       "      <td>0</td>\n",
       "      <td>0</td>\n",
       "      <td>0</td>\n",
       "    </tr>\n",
       "    <tr>\n",
       "      <th>2</th>\n",
       "      <td>Female</td>\n",
       "      <td>35</td>\n",
       "      <td>Puducherry</td>\n",
       "      <td>Puducherry</td>\n",
       "      <td>Puducherry Branch</td>\n",
       "      <td>Business</td>\n",
       "      <td>0</td>\n",
       "      <td>35041.78</td>\n",
       "      <td>Withdrawal</td>\n",
       "      <td>Restaurant</td>\n",
       "      <td>79427.51</td>\n",
       "      <td>ATM Booth Kiosk</td>\n",
       "      <td>Puducherry, Puducherry</td>\n",
       "      <td>Desktop</td>\n",
       "      <td>0</td>\n",
       "      <td>Insurance claim</td>\n",
       "      <td>0</td>\n",
       "      <td>0</td>\n",
       "      <td>0</td>\n",
       "    </tr>\n",
       "    <tr>\n",
       "      <th>3</th>\n",
       "      <td>Male</td>\n",
       "      <td>56</td>\n",
       "      <td>Chandigarh</td>\n",
       "      <td>Chandigarh</td>\n",
       "      <td>Chandigarh Branch</td>\n",
       "      <td>Savings</td>\n",
       "      <td>18</td>\n",
       "      <td>4070.99</td>\n",
       "      <td>Transfer</td>\n",
       "      <td>Entertainment</td>\n",
       "      <td>8459.75</td>\n",
       "      <td>Debit/Credit Card</td>\n",
       "      <td>Chandigarh, Chandigarh</td>\n",
       "      <td>ATM</td>\n",
       "      <td>0</td>\n",
       "      <td>Childcare expense</td>\n",
       "      <td>1</td>\n",
       "      <td>1</td>\n",
       "      <td>1</td>\n",
       "    </tr>\n",
       "    <tr>\n",
       "      <th>4</th>\n",
       "      <td>Male</td>\n",
       "      <td>22</td>\n",
       "      <td>Gujarat</td>\n",
       "      <td>Ahmedabad</td>\n",
       "      <td>Ahmedabad Branch</td>\n",
       "      <td>Savings</td>\n",
       "      <td>19</td>\n",
       "      <td>13405.23</td>\n",
       "      <td>Bill Payment</td>\n",
       "      <td>Restaurant</td>\n",
       "      <td>71766.34</td>\n",
       "      <td>Virtual Card</td>\n",
       "      <td>Ahmedabad, Gujarat</td>\n",
       "      <td>POS</td>\n",
       "      <td>0</td>\n",
       "      <td>Doctor consultation</td>\n",
       "      <td>1</td>\n",
       "      <td>1</td>\n",
       "      <td>1</td>\n",
       "    </tr>\n",
       "    <tr>\n",
       "      <th>...</th>\n",
       "      <td>...</td>\n",
       "      <td>...</td>\n",
       "      <td>...</td>\n",
       "      <td>...</td>\n",
       "      <td>...</td>\n",
       "      <td>...</td>\n",
       "      <td>...</td>\n",
       "      <td>...</td>\n",
       "      <td>...</td>\n",
       "      <td>...</td>\n",
       "      <td>...</td>\n",
       "      <td>...</td>\n",
       "      <td>...</td>\n",
       "      <td>...</td>\n",
       "      <td>...</td>\n",
       "      <td>...</td>\n",
       "      <td>...</td>\n",
       "      <td>...</td>\n",
       "      <td>...</td>\n",
       "    </tr>\n",
       "    <tr>\n",
       "      <th>19995</th>\n",
       "      <td>Female</td>\n",
       "      <td>69</td>\n",
       "      <td>Andaman and Nicobar Islands</td>\n",
       "      <td>Car Nicobar</td>\n",
       "      <td>Car Nicobar Branch</td>\n",
       "      <td>Checking</td>\n",
       "      <td>13</td>\n",
       "      <td>31056.71</td>\n",
       "      <td>Bill Payment</td>\n",
       "      <td>Health</td>\n",
       "      <td>5296.41</td>\n",
       "      <td>Tablet</td>\n",
       "      <td>Car Nicobar, Andaman and Nicobar Islands</td>\n",
       "      <td>POS</td>\n",
       "      <td>0</td>\n",
       "      <td>E-commerce refund</td>\n",
       "      <td>1</td>\n",
       "      <td>1</td>\n",
       "      <td>1</td>\n",
       "    </tr>\n",
       "    <tr>\n",
       "      <th>19996</th>\n",
       "      <td>Female</td>\n",
       "      <td>42</td>\n",
       "      <td>Andaman and Nicobar Islands</td>\n",
       "      <td>Port Blair</td>\n",
       "      <td>Port Blair Branch</td>\n",
       "      <td>Business</td>\n",
       "      <td>8</td>\n",
       "      <td>14942.40</td>\n",
       "      <td>Debit</td>\n",
       "      <td>Electronics</td>\n",
       "      <td>52448.73</td>\n",
       "      <td>Web Browser</td>\n",
       "      <td>Port Blair, Andaman and Nicobar Islands</td>\n",
       "      <td>Mobile</td>\n",
       "      <td>0</td>\n",
       "      <td>Grocery shopping</td>\n",
       "      <td>0</td>\n",
       "      <td>0</td>\n",
       "      <td>0</td>\n",
       "    </tr>\n",
       "    <tr>\n",
       "      <th>19997</th>\n",
       "      <td>Female</td>\n",
       "      <td>28</td>\n",
       "      <td>Uttarakhand</td>\n",
       "      <td>Rishikesh</td>\n",
       "      <td>Rishikesh Branch</td>\n",
       "      <td>Checking</td>\n",
       "      <td>19</td>\n",
       "      <td>87493.47</td>\n",
       "      <td>Bill Payment</td>\n",
       "      <td>Clothing</td>\n",
       "      <td>5036.40</td>\n",
       "      <td>POS Mobile App</td>\n",
       "      <td>Rishikesh, Uttarakhand</td>\n",
       "      <td>ATM</td>\n",
       "      <td>0</td>\n",
       "      <td>Hospital bill</td>\n",
       "      <td>0</td>\n",
       "      <td>0</td>\n",
       "      <td>0</td>\n",
       "    </tr>\n",
       "    <tr>\n",
       "      <th>19998</th>\n",
       "      <td>Female</td>\n",
       "      <td>25</td>\n",
       "      <td>Chhattisgarh</td>\n",
       "      <td>Bilaspur</td>\n",
       "      <td>Bilaspur Branch</td>\n",
       "      <td>Savings</td>\n",
       "      <td>17</td>\n",
       "      <td>19137.06</td>\n",
       "      <td>Withdrawal</td>\n",
       "      <td>Restaurant</td>\n",
       "      <td>86131.48</td>\n",
       "      <td>ATM</td>\n",
       "      <td>Bilaspur, Chhattisgarh</td>\n",
       "      <td>Mobile</td>\n",
       "      <td>0</td>\n",
       "      <td>Gifts for family</td>\n",
       "      <td>1</td>\n",
       "      <td>1</td>\n",
       "      <td>1</td>\n",
       "    </tr>\n",
       "    <tr>\n",
       "      <th>19999</th>\n",
       "      <td>Female</td>\n",
       "      <td>62</td>\n",
       "      <td>Assam</td>\n",
       "      <td>Nagaon</td>\n",
       "      <td>Nagaon Branch</td>\n",
       "      <td>Savings</td>\n",
       "      <td>8</td>\n",
       "      <td>49421.08</td>\n",
       "      <td>Transfer</td>\n",
       "      <td>Clothing</td>\n",
       "      <td>28745.00</td>\n",
       "      <td>Desktop/Laptop</td>\n",
       "      <td>Nagaon, Assam</td>\n",
       "      <td>ATM</td>\n",
       "      <td>0</td>\n",
       "      <td>Movie tickets</td>\n",
       "      <td>0</td>\n",
       "      <td>0</td>\n",
       "      <td>0</td>\n",
       "    </tr>\n",
       "  </tbody>\n",
       "</table>\n",
       "<p>20000 rows × 19 columns</p>\n",
       "</div>"
      ],
      "text/plain": [
       "       Gender  Age                        State           City  \\\n",
       "0      Female   70                      Manipur  Churachandpur   \n",
       "1      Female   27             Himachal Pradesh         Shimla   \n",
       "2      Female   35                   Puducherry     Puducherry   \n",
       "3        Male   56                   Chandigarh     Chandigarh   \n",
       "4        Male   22                      Gujarat      Ahmedabad   \n",
       "...       ...  ...                          ...            ...   \n",
       "19995  Female   69  Andaman and Nicobar Islands    Car Nicobar   \n",
       "19996  Female   42  Andaman and Nicobar Islands     Port Blair   \n",
       "19997  Female   28                  Uttarakhand      Rishikesh   \n",
       "19998  Female   25                 Chhattisgarh       Bilaspur   \n",
       "19999  Female   62                        Assam         Nagaon   \n",
       "\n",
       "                Bank_Branch Account_Type  Transaction_Time  \\\n",
       "0      Churachandpur Branch     Checking                21   \n",
       "1             Shimla Branch     Business                17   \n",
       "2         Puducherry Branch     Business                 0   \n",
       "3         Chandigarh Branch      Savings                18   \n",
       "4          Ahmedabad Branch      Savings                19   \n",
       "...                     ...          ...               ...   \n",
       "19995    Car Nicobar Branch     Checking                13   \n",
       "19996     Port Blair Branch     Business                 8   \n",
       "19997      Rishikesh Branch     Checking                19   \n",
       "19998       Bilaspur Branch      Savings                17   \n",
       "19999         Nagaon Branch      Savings                 8   \n",
       "\n",
       "       Transaction_Amount Transaction_Type Merchant_Category  Account_Balance  \\\n",
       "0                73990.02     Bill Payment         Groceries         26998.49   \n",
       "1                34258.19           Credit          Clothing         16474.66   \n",
       "2                35041.78       Withdrawal        Restaurant         79427.51   \n",
       "3                 4070.99         Transfer     Entertainment          8459.75   \n",
       "4                13405.23     Bill Payment        Restaurant         71766.34   \n",
       "...                   ...              ...               ...              ...   \n",
       "19995            31056.71     Bill Payment            Health          5296.41   \n",
       "19996            14942.40            Debit       Electronics         52448.73   \n",
       "19997            87493.47     Bill Payment          Clothing          5036.40   \n",
       "19998            19137.06       Withdrawal        Restaurant         86131.48   \n",
       "19999            49421.08         Transfer          Clothing         28745.00   \n",
       "\n",
       "      Transaction_Device                      Transaction_Location  \\\n",
       "0           POS Terminal                    Churachandpur, Manipur   \n",
       "1        Wearable Device                  Shimla, Himachal Pradesh   \n",
       "2        ATM Booth Kiosk                    Puducherry, Puducherry   \n",
       "3      Debit/Credit Card                    Chandigarh, Chandigarh   \n",
       "4           Virtual Card                        Ahmedabad, Gujarat   \n",
       "...                  ...                                       ...   \n",
       "19995             Tablet  Car Nicobar, Andaman and Nicobar Islands   \n",
       "19996        Web Browser   Port Blair, Andaman and Nicobar Islands   \n",
       "19997     POS Mobile App                    Rishikesh, Uttarakhand   \n",
       "19998                ATM                    Bilaspur, Chhattisgarh   \n",
       "19999     Desktop/Laptop                             Nagaon, Assam   \n",
       "\n",
       "      Device_Type  Is_Fraud Transaction_Description  k_label  k_label_score  \\\n",
       "0          Mobile         0        Subscription fee        1              1   \n",
       "1             POS         0  Corporate event ticket        0              0   \n",
       "2         Desktop         0         Insurance claim        0              0   \n",
       "3             ATM         0       Childcare expense        1              1   \n",
       "4             POS         0     Doctor consultation        1              1   \n",
       "...           ...       ...                     ...      ...            ...   \n",
       "19995         POS         0       E-commerce refund        1              1   \n",
       "19996      Mobile         0        Grocery shopping        0              0   \n",
       "19997         ATM         0           Hospital bill        0              0   \n",
       "19998      Mobile         0        Gifts for family        1              1   \n",
       "19999         ATM         0           Movie tickets        0              0   \n",
       "\n",
       "       dbscan_label  \n",
       "0                 1  \n",
       "1                 0  \n",
       "2                 0  \n",
       "3                 1  \n",
       "4                 1  \n",
       "...             ...  \n",
       "19995             1  \n",
       "19996             0  \n",
       "19997             0  \n",
       "19998             1  \n",
       "19999             0  \n",
       "\n",
       "[20000 rows x 19 columns]"
      ]
     },
     "execution_count": 50,
     "metadata": {},
     "output_type": "execute_result"
    }
   ],
   "source": [
    "label = pd.DataFrame(kmeans.labels_, columns=['dbscan_label'])\n",
    "sample= pd.concat([sample, label], axis=1)\n",
    "sample"
   ]
  },
  {
   "cell_type": "code",
   "execution_count": 51,
   "id": "1c2a35df-4615-4a9d-9ed9-8eb101e91618",
   "metadata": {
    "tags": []
   },
   "outputs": [
    {
     "data": {
      "text/plain": [
       "1    546\n",
       "0    489\n",
       "Name: dbscan_label, dtype: int64"
      ]
     },
     "execution_count": 51,
     "metadata": {},
     "output_type": "execute_result"
    }
   ],
   "source": [
    "sample[sample['Is_Fraud']==1]['dbscan_label'].value_counts()"
   ]
  },
  {
   "cell_type": "markdown",
   "id": "0f81904d-9628-47c3-8d2e-b2dd8efd04e4",
   "metadata": {},
   "source": [
    "using dbscan we see that fraud locates in two group most in group 1 similar to kmeans"
   ]
  },
  {
   "cell_type": "markdown",
   "id": "70e1a827-0a38-4234-85cc-d9972169eb9a",
   "metadata": {},
   "source": [
    "It's seems that cluster could not well categorize fraud and non-fraud or we need more data since I use sample to sample only 10% of data in the dataset to reduce time"
   ]
  },
  {
   "cell_type": "markdown",
   "id": "74b27668-7929-4e92-b1a3-5a37177b4865",
   "metadata": {},
   "source": [
    "based on the result, we can conclude that the fraud people are just like ordinary people "
   ]
  },
  {
   "cell_type": "markdown",
   "id": "d55cb79f-d808-4527-8057-5e96c1bef91d",
   "metadata": {},
   "source": [
    "cluster could not classify two group(fraud,non-fraud)"
   ]
  },
  {
   "cell_type": "markdown",
   "id": "26ae771c-990c-49c4-b703-e90eaa37d5c4",
   "metadata": {},
   "source": [
    "let's use cluster=2 to see what character fraud people in two groups have and what is the difference"
   ]
  },
  {
   "cell_type": "markdown",
   "id": "5e3fb371-e55f-4fc3-8934-5524d64d8ed6",
   "metadata": {},
   "source": [
    "group 1=more fraud 0=less fraud "
   ]
  },
  {
   "cell_type": "code",
   "execution_count": 286,
   "id": "fe84ad93-b040-4c6d-bf05-0e79725d6dac",
   "metadata": {
    "tags": []
   },
   "outputs": [
    {
     "data": {
      "text/plain": [
       "Chandigarh    45\n",
       "Kavaratti     29\n",
       "Champhai      13\n",
       "Gwalior       12\n",
       "Kolkata       11\n",
       "Name: City, dtype: int64"
      ]
     },
     "execution_count": 286,
     "metadata": {},
     "output_type": "execute_result"
    }
   ],
   "source": [
    "sample[(sample['k_label']==1 )&sample['Is_Fraud']==1]['City'].value_counts().head()"
   ]
  },
  {
   "cell_type": "code",
   "execution_count": 288,
   "id": "2f4ccf99-e7e0-494b-99d8-1096da33a605",
   "metadata": {
    "tags": []
   },
   "outputs": [
    {
     "data": {
      "text/plain": [
       "Shimla     14\n",
       "Yanam      14\n",
       "Ranchi     14\n",
       "Thoubal    13\n",
       "Tawang     13\n",
       "Name: City, dtype: int64"
      ]
     },
     "execution_count": 288,
     "metadata": {},
     "output_type": "execute_result"
    }
   ],
   "source": [
    "sample[(sample['k_label']==0)&(sample['Is_Fraud']==1)]['City'].value_counts().head()"
   ]
  },
  {
   "cell_type": "code",
   "execution_count": 287,
   "id": "00b7f255-7f24-4db9-98f7-cac7fc0421a5",
   "metadata": {
    "tags": []
   },
   "outputs": [
    {
     "data": {
      "text/plain": [
       "Savings     199\n",
       "Business    188\n",
       "Checking    159\n",
       "Name: Account_Type, dtype: int64"
      ]
     },
     "execution_count": 287,
     "metadata": {},
     "output_type": "execute_result"
    }
   ],
   "source": [
    "sample[(sample['k_label']==1 )&(sample['Is_Fraud']==1)]['Account_Type'].value_counts()"
   ]
  },
  {
   "cell_type": "code",
   "execution_count": 59,
   "id": "9f9aec34-1e1f-4b73-a99a-78323e452d49",
   "metadata": {
    "tags": []
   },
   "outputs": [
    {
     "data": {
      "text/plain": [
       "Business    169\n",
       "Savings     165\n",
       "Checking    155\n",
       "Name: Account_Type, dtype: int64"
      ]
     },
     "execution_count": 59,
     "metadata": {},
     "output_type": "execute_result"
    }
   ],
   "source": [
    "sample[(sample['k_label']==0 )&(sample['Is_Fraud']==1)]['Account_Type'].value_counts()"
   ]
  },
  {
   "cell_type": "code",
   "execution_count": 60,
   "id": "673b2b67-ece5-4d87-a8a9-1f113676207f",
   "metadata": {
    "tags": []
   },
   "outputs": [
    {
     "data": {
      "text/plain": [
       "3     31\n",
       "18    30\n",
       "23    30\n",
       "17    29\n",
       "16    29\n",
       "Name: Transaction_Time, dtype: int64"
      ]
     },
     "execution_count": 60,
     "metadata": {},
     "output_type": "execute_result"
    }
   ],
   "source": [
    "sample[(sample['k_label']==1)&(sample['Is_Fraud']==1)]['Transaction_Time'].value_counts().head()"
   ]
  },
  {
   "cell_type": "code",
   "execution_count": 61,
   "id": "40ad168a-e5e0-41ef-b7ea-94de67f063cb",
   "metadata": {
    "tags": []
   },
   "outputs": [
    {
     "data": {
      "text/plain": [
       "2     33\n",
       "6     27\n",
       "15    25\n",
       "8     24\n",
       "1     24\n",
       "Name: Transaction_Time, dtype: int64"
      ]
     },
     "execution_count": 61,
     "metadata": {},
     "output_type": "execute_result"
    }
   ],
   "source": [
    "sample[(sample['k_label']==0)&(sample['Is_Fraud']==1)]['Transaction_Time'].value_counts().head()"
   ]
  },
  {
   "cell_type": "code",
   "execution_count": 62,
   "id": "43e6a5db-1984-44ed-827a-6ca858f3190c",
   "metadata": {
    "tags": []
   },
   "outputs": [
    {
     "data": {
      "text/plain": [
       "Debit           120\n",
       "Transfer        114\n",
       "Bill Payment    111\n",
       "Credit          111\n",
       "Withdrawal       90\n",
       "Name: Transaction_Type, dtype: int64"
      ]
     },
     "execution_count": 62,
     "metadata": {},
     "output_type": "execute_result"
    }
   ],
   "source": [
    "sample[(sample['k_label']==1)&(sample['Is_Fraud']==1)]['Transaction_Type'].value_counts()"
   ]
  },
  {
   "cell_type": "code",
   "execution_count": 63,
   "id": "0e1bf582-5c8e-4a63-9a04-e0fc9a3c3238",
   "metadata": {
    "tags": []
   },
   "outputs": [
    {
     "data": {
      "text/plain": [
       "Debit           108\n",
       "Credit          103\n",
       "Bill Payment    102\n",
       "Transfer         96\n",
       "Withdrawal       80\n",
       "Name: Transaction_Type, dtype: int64"
      ]
     },
     "execution_count": 63,
     "metadata": {},
     "output_type": "execute_result"
    }
   ],
   "source": [
    "sample[(sample['k_label']==0)&(sample['Is_Fraud']==1)]['Transaction_Type'].value_counts()"
   ]
  },
  {
   "cell_type": "code",
   "execution_count": 64,
   "id": "6bd660f5-9941-45e0-ba41-3e38a07b9951",
   "metadata": {
    "tags": []
   },
   "outputs": [
    {
     "data": {
      "text/plain": [
       "Groceries        100\n",
       "Clothing          99\n",
       "Restaurant        93\n",
       "Health            91\n",
       "Entertainment     87\n",
       "Electronics       76\n",
       "Name: Merchant_Category, dtype: int64"
      ]
     },
     "execution_count": 64,
     "metadata": {},
     "output_type": "execute_result"
    }
   ],
   "source": [
    "sample[(sample['k_label']==1)&(sample['Is_Fraud']==1)]['Merchant_Category'].value_counts()"
   ]
  },
  {
   "cell_type": "code",
   "execution_count": 65,
   "id": "936da87f-82cf-4265-a172-23211e089863",
   "metadata": {
    "tags": []
   },
   "outputs": [
    {
     "data": {
      "text/plain": [
       "Electronics      93\n",
       "Restaurant       89\n",
       "Groceries        82\n",
       "Clothing         81\n",
       "Entertainment    79\n",
       "Health           65\n",
       "Name: Merchant_Category, dtype: int64"
      ]
     },
     "execution_count": 65,
     "metadata": {},
     "output_type": "execute_result"
    }
   ],
   "source": [
    "sample[(sample['k_label']==0)&(sample['Is_Fraud']==1)]['Merchant_Category'].value_counts()"
   ]
  },
  {
   "cell_type": "code",
   "execution_count": 66,
   "id": "e555dbb9-9930-459d-8179-dd81c95bf083",
   "metadata": {
    "tags": []
   },
   "outputs": [
    {
     "data": {
      "text/plain": [
       "ATM Booth Kiosk                 62\n",
       "Self-service Banking Machine    62\n",
       "ATM                             45\n",
       "Smart Card                      29\n",
       "Wearable Device                 27\n",
       "Name: Transaction_Device, dtype: int64"
      ]
     },
     "execution_count": 66,
     "metadata": {},
     "output_type": "execute_result"
    }
   ],
   "source": [
    "sample[(sample['k_label']==1)&(sample['Is_Fraud']==1)]['Transaction_Device'].value_counts().head()"
   ]
  },
  {
   "cell_type": "code",
   "execution_count": 67,
   "id": "225a2b29-30b9-4897-8927-f58e2e678d9e",
   "metadata": {
    "tags": []
   },
   "outputs": [
    {
     "data": {
      "text/plain": [
       "Self-service Banking Machine    49\n",
       "ATM                             49\n",
       "ATM Booth Kiosk                 42\n",
       "POS Mobile App                  33\n",
       "Desktop/Laptop                  26\n",
       "Name: Transaction_Device, dtype: int64"
      ]
     },
     "execution_count": 67,
     "metadata": {},
     "output_type": "execute_result"
    }
   ],
   "source": [
    "sample[(sample['k_label']==0)&(sample['Is_Fraud']==1)]['Transaction_Device'].value_counts().head()"
   ]
  },
  {
   "cell_type": "code",
   "execution_count": 68,
   "id": "01cad596-cc9b-4b30-b914-06db0c393029",
   "metadata": {
    "tags": []
   },
   "outputs": [
    {
     "data": {
      "text/plain": [
       "ATM        142\n",
       "Desktop    137\n",
       "Mobile     137\n",
       "POS        130\n",
       "Name: Device_Type, dtype: int64"
      ]
     },
     "execution_count": 68,
     "metadata": {},
     "output_type": "execute_result"
    }
   ],
   "source": [
    "sample[(sample['k_label']==1)&(sample['Is_Fraud']==1)]['Device_Type'].value_counts()"
   ]
  },
  {
   "cell_type": "code",
   "execution_count": 69,
   "id": "c8349d4f-1716-4458-a624-b0513530a230",
   "metadata": {
    "tags": []
   },
   "outputs": [
    {
     "data": {
      "text/plain": [
       "ATM        130\n",
       "Desktop    126\n",
       "POS        121\n",
       "Mobile     112\n",
       "Name: Device_Type, dtype: int64"
      ]
     },
     "execution_count": 69,
     "metadata": {},
     "output_type": "execute_result"
    }
   ],
   "source": [
    "sample[(sample['k_label']==0)&(sample['Is_Fraud']==1)]['Device_Type'].value_counts()"
   ]
  },
  {
   "cell_type": "code",
   "execution_count": 73,
   "id": "79fc2d12-3663-49d4-ac2a-79422740155e",
   "metadata": {
    "tags": []
   },
   "outputs": [
    {
     "data": {
      "text/plain": [
       "Wedding anniversary gift      8\n",
       "Bitcoin transaction           7\n",
       "Tourist attraction payment    7\n",
       "Department store shopping     7\n",
       "Phone accessories             7\n",
       "Name: Transaction_Description, dtype: int64"
      ]
     },
     "execution_count": 73,
     "metadata": {},
     "output_type": "execute_result"
    }
   ],
   "source": [
    "sample[(sample['k_label']==1)&(sample['Is_Fraud']==1)]['Transaction_Description'].value_counts().head()"
   ]
  },
  {
   "cell_type": "code",
   "execution_count": 71,
   "id": "85db6953-3d50-42b9-a2ad-1151d4446427",
   "metadata": {
    "tags": []
   },
   "outputs": [
    {
     "data": {
      "text/plain": [
       "Christmas shopping                7\n",
       "Streaming service subscription    7\n",
       "Transportation fare               7\n",
       "Long-distance transport           7\n",
       "Car service                       6\n",
       "Name: Transaction_Description, dtype: int64"
      ]
     },
     "execution_count": 71,
     "metadata": {},
     "output_type": "execute_result"
    }
   ],
   "source": [
    "sample[(sample['k_label']==0)&(sample['Is_Fraud']==1)]['Transaction_Description'].value_counts().head()"
   ]
  },
  {
   "cell_type": "markdown",
   "id": "f36a0d4b-ccd7-420d-9252-46dd3b10b66e",
   "metadata": {},
   "source": [
    "# result from analyzing the the two clusters:"
   ]
  },
  {
   "cell_type": "markdown",
   "id": "564fea7c-26a0-4ee4-b701-f6bb85f56cf9",
   "metadata": {},
   "source": [
    "Although the result is not what I expected, it also shows some additional information about fraud.  \n",
    "It does not seperate data into fraud and non-fraud.  \n",
    "Instead, it gives us some information about different fraud ways or location,etc.  \n",
    "I will compare this two groups of fraud."
   ]
  },
  {
   "cell_type": "markdown",
   "id": "d50e2d95-c922-4082-9194-24849eec173e",
   "metadata": {},
   "source": [
    "group1:  \n",
    "1.loc: Chandigarh,Kavaratti   \n",
    "2.account_type:Savings,Business accounts are used   \n",
    "3.time:afternoon or midnight  \n",
    "4.transation type :Debit,Transfer  \n",
    "5.merchant type:groceries, clothing   \n",
    "6.transaction device:ATM,self banking machine are used  \n",
    "7.device:ATM,desktop  \n",
    "8.event:Wedding anniversary gift,Bitcoin transaction,Tourist attraction payment,Department store shopping,Phone accessories          "
   ]
  },
  {
   "cell_type": "markdown",
   "id": "df9eb2d1-2568-443a-a440-e1a7f69efcfb",
   "metadata": {},
   "source": [
    "group2:  \n",
    "1.loc:Shimla,Yanam,Ranchi    \n",
    "2.account type:business,savings    \n",
    "3.time:morning,afternoon  \n",
    "4.transaction type:debit,credit  \n",
    "5.merchant type:electronic,restaurants  \n",
    "6.transaction device:ATM,self banking machine are used  \n",
    "7.device:ATM,desktop  \n",
    "8.event:Christmas shopping,Streaming service subscription,Transportation fare,Long-distance transport,Car service               "
   ]
  },
  {
   "cell_type": "markdown",
   "id": "09255da0-accc-49f3-8620-4b51f549f9a4",
   "metadata": {},
   "source": [
    "conclusion:  \n",
    "1.Although we do not have clusters as expected(fraud,non-fraud),there is also information about different fraud type.  \n",
    "2.People living in different places might have different fraud behavior. This makes sense!  \n",
    "3. bank in chandigarh or kavaratti should take transactions using business, savings account,happening at afternoon,midnight, using ATM and destop more carefully.  \n",
    "4.bank at Shimla,Yanam,Ranchi should take transactions using business,saving, happening at morning,afternoon, using ATM, self banking machine more carefully."
   ]
  },
  {
   "cell_type": "markdown",
   "id": "e5196a17-739e-4b9d-9c96-7391ebf0cb50",
   "metadata": {},
   "source": [
    "next:  \n",
    "1.use more data to run the cluster to get a better model(as it takes a lot of time and there are 200000 samples in the dataset)  \n",
    "2.use it in classification model(random forest,decision tree, logistic regression) to help identify the fraud event  \n",
    "3.use other clustering method(GMM, aggloramative cluster, mean shift) to see if we could get better result.\n",
    "4.use other pca method(kernel pca) to see if it can improve the result."
   ]
  }
 ],
 "metadata": {
  "kernelspec": {
   "display_name": "Python",
   "language": "python",
   "name": "conda-env-python-py"
  },
  "language_info": {
   "codemirror_mode": {
    "name": "ipython",
    "version": 3
   },
   "file_extension": ".py",
   "mimetype": "text/x-python",
   "name": "python",
   "nbconvert_exporter": "python",
   "pygments_lexer": "ipython3",
   "version": "3.7.12"
  }
 },
 "nbformat": 4,
 "nbformat_minor": 5
}
